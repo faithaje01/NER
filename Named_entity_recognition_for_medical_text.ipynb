{
  "nbformat": 4,
  "nbformat_minor": 0,
  "metadata": {
    "colab": {
      "provenance": [],
      "gpuType": "T4"
    },
    "kernelspec": {
      "name": "python3",
      "display_name": "Python 3"
    },
    "language_info": {
      "name": "python"
    },
    "accelerator": "GPU"
  },
  "cells": [
    {
      "cell_type": "code",
      "source": [
        "!pip install --upgrade spacy"
      ],
      "metadata": {
        "id": "PgPjAdeRdilI"
      },
      "execution_count": null,
      "outputs": []
    },
    {
      "cell_type": "code",
      "source": [
        "!python -m spacy download en_core_web_trf\n"
      ],
      "metadata": {
        "id": "MovfPNIZr7u6"
      },
      "execution_count": null,
      "outputs": []
    },
    {
      "cell_type": "code",
      "source": [
        "import os\n",
        "import pandas as pd"
      ],
      "metadata": {
        "id": "1ArTnbW6eFkI"
      },
      "execution_count": null,
      "outputs": []
    },
    {
      "cell_type": "code",
      "execution_count": null,
      "metadata": {
        "id": "gpSOMFPOcS0s"
      },
      "outputs": [],
      "source": [
        "with open(\"/content/CDR_TrainingSet.PubTator.txt\", \"r\") as trainfile:\n",
        "    trainfile = trainfile.read()\n",
        "\n",
        "with open(\"/content/CDR_TestSet.PubTator.txt\", \"r\") as testfile:\n",
        "    testfile = testfile.read()\n",
        "\n"
      ]
    },
    {
      "cell_type": "code",
      "source": [
        "#train set\n",
        "ctr = 0\n",
        "train = []\n",
        "for line in trainfile.split(\"\\n\\n\"):\n",
        "  train.append(line)\n",
        "\n",
        "\n",
        "\n",
        "#test set\n",
        "ctr = 0\n",
        "test = []\n",
        "for line in testfile.split(\"\\n\\n\"):\n",
        "  test.append(line)"
      ],
      "metadata": {
        "id": "s9D9e33gciPp"
      },
      "execution_count": null,
      "outputs": []
    },
    {
      "cell_type": "code",
      "source": [
        "len(train)"
      ],
      "metadata": {
        "colab": {
          "base_uri": "https://localhost:8080/"
        },
        "id": "XAv-drIgen7k",
        "outputId": "8a9122f9-c263-41a7-84b3-8fc333aa3b34"
      },
      "execution_count": null,
      "outputs": [
        {
          "output_type": "execute_result",
          "data": {
            "text/plain": [
              "501"
            ]
          },
          "metadata": {},
          "execution_count": 7
        }
      ]
    },
    {
      "cell_type": "code",
      "source": [
        "len(test)"
      ],
      "metadata": {
        "colab": {
          "base_uri": "https://localhost:8080/"
        },
        "id": "jthcUb_zeqNF",
        "outputId": "b93f8452-0e0a-4386-f326-50b6872f4eb4"
      },
      "execution_count": null,
      "outputs": [
        {
          "output_type": "execute_result",
          "data": {
            "text/plain": [
              "501"
            ]
          },
          "metadata": {},
          "execution_count": 8
        }
      ]
    },
    {
      "cell_type": "markdown",
      "source": [
        "extract articles"
      ],
      "metadata": {
        "id": "tgRLMjr1e4rN"
      }
    },
    {
      "cell_type": "code",
      "source": [
        "import re\n",
        "# Corrected get_title function\n",
        "def get_title(text):\n",
        "    title = re.findall(r\"t\\|(.*)\\n\", text)\n",
        "    if title:\n",
        "        return title[0]\n",
        "    else:\n",
        "        return \"No title found\"  # Return a default value if no title is found\n",
        "\n",
        "def get_article(text):\n",
        "    article = re.findall(r\"a\\|(.*)\\n\", text)\n",
        "    if article:\n",
        "        return article[0]\n",
        "    else:\n",
        "        return \"No article found\"\n",
        "\n"
      ],
      "metadata": {
        "id": "b7yoGdQ9fCRr"
      },
      "execution_count": null,
      "outputs": []
    },
    {
      "cell_type": "code",
      "source": [
        "#articls for train data\n",
        "train_article = [get_title(x)+\" \"+ get_article(x) for x in train]\n",
        "len(train_article)\n",
        "\n",
        "#articles for test data\n",
        "test_article = [get_title(x)+\" \"+ get_article(x) for x in test]\n",
        "len(test_article)"
      ],
      "metadata": {
        "colab": {
          "base_uri": "https://localhost:8080/"
        },
        "id": "gALl-89ffm4R",
        "outputId": "aec250b4-c50f-4a47-eb72-975768cafb53"
      },
      "execution_count": null,
      "outputs": [
        {
          "output_type": "execute_result",
          "data": {
            "text/plain": [
              "501"
            ]
          },
          "metadata": {},
          "execution_count": 10
        }
      ]
    },
    {
      "cell_type": "markdown",
      "source": [
        "adding articles to a dataframe"
      ],
      "metadata": {
        "id": "knH2TWn3h5qX"
      }
    },
    {
      "cell_type": "code",
      "source": [
        "train_df = pd.DataFrame(columns = [\"article\"])\n",
        "train_df[\"article\"] = train_article\n",
        "train_df.head()"
      ],
      "metadata": {
        "colab": {
          "base_uri": "https://localhost:8080/",
          "height": 206
        },
        "id": "fuLJh0RIhl4k",
        "outputId": "ebfe7cea-bd48-4c91-88ea-a6dd19edc0b0"
      },
      "execution_count": null,
      "outputs": [
        {
          "output_type": "execute_result",
          "data": {
            "text/plain": [
              "                                             article\n",
              "0  Naloxone reverses the antihypertensive effect ...\n",
              "1  Lidocaine-induced cardiac asystole. Intravenou...\n",
              "2  Suxamethonium infusion rate and observed fasci...\n",
              "3  Galanthamine hydrobromide, a longer acting ant...\n",
              "4  Effects of uninephrectomy and high protein fee..."
            ],
            "text/html": [
              "\n",
              "  <div id=\"df-39c51fef-9afb-4534-9dbb-33750790766b\" class=\"colab-df-container\">\n",
              "    <div>\n",
              "<style scoped>\n",
              "    .dataframe tbody tr th:only-of-type {\n",
              "        vertical-align: middle;\n",
              "    }\n",
              "\n",
              "    .dataframe tbody tr th {\n",
              "        vertical-align: top;\n",
              "    }\n",
              "\n",
              "    .dataframe thead th {\n",
              "        text-align: right;\n",
              "    }\n",
              "</style>\n",
              "<table border=\"1\" class=\"dataframe\">\n",
              "  <thead>\n",
              "    <tr style=\"text-align: right;\">\n",
              "      <th></th>\n",
              "      <th>article</th>\n",
              "    </tr>\n",
              "  </thead>\n",
              "  <tbody>\n",
              "    <tr>\n",
              "      <th>0</th>\n",
              "      <td>Naloxone reverses the antihypertensive effect ...</td>\n",
              "    </tr>\n",
              "    <tr>\n",
              "      <th>1</th>\n",
              "      <td>Lidocaine-induced cardiac asystole. Intravenou...</td>\n",
              "    </tr>\n",
              "    <tr>\n",
              "      <th>2</th>\n",
              "      <td>Suxamethonium infusion rate and observed fasci...</td>\n",
              "    </tr>\n",
              "    <tr>\n",
              "      <th>3</th>\n",
              "      <td>Galanthamine hydrobromide, a longer acting ant...</td>\n",
              "    </tr>\n",
              "    <tr>\n",
              "      <th>4</th>\n",
              "      <td>Effects of uninephrectomy and high protein fee...</td>\n",
              "    </tr>\n",
              "  </tbody>\n",
              "</table>\n",
              "</div>\n",
              "    <div class=\"colab-df-buttons\">\n",
              "\n",
              "  <div class=\"colab-df-container\">\n",
              "    <button class=\"colab-df-convert\" onclick=\"convertToInteractive('df-39c51fef-9afb-4534-9dbb-33750790766b')\"\n",
              "            title=\"Convert this dataframe to an interactive table.\"\n",
              "            style=\"display:none;\">\n",
              "\n",
              "  <svg xmlns=\"http://www.w3.org/2000/svg\" height=\"24px\" viewBox=\"0 -960 960 960\">\n",
              "    <path d=\"M120-120v-720h720v720H120Zm60-500h600v-160H180v160Zm220 220h160v-160H400v160Zm0 220h160v-160H400v160ZM180-400h160v-160H180v160Zm440 0h160v-160H620v160ZM180-180h160v-160H180v160Zm440 0h160v-160H620v160Z\"/>\n",
              "  </svg>\n",
              "    </button>\n",
              "\n",
              "  <style>\n",
              "    .colab-df-container {\n",
              "      display:flex;\n",
              "      gap: 12px;\n",
              "    }\n",
              "\n",
              "    .colab-df-convert {\n",
              "      background-color: #E8F0FE;\n",
              "      border: none;\n",
              "      border-radius: 50%;\n",
              "      cursor: pointer;\n",
              "      display: none;\n",
              "      fill: #1967D2;\n",
              "      height: 32px;\n",
              "      padding: 0 0 0 0;\n",
              "      width: 32px;\n",
              "    }\n",
              "\n",
              "    .colab-df-convert:hover {\n",
              "      background-color: #E2EBFA;\n",
              "      box-shadow: 0px 1px 2px rgba(60, 64, 67, 0.3), 0px 1px 3px 1px rgba(60, 64, 67, 0.15);\n",
              "      fill: #174EA6;\n",
              "    }\n",
              "\n",
              "    .colab-df-buttons div {\n",
              "      margin-bottom: 4px;\n",
              "    }\n",
              "\n",
              "    [theme=dark] .colab-df-convert {\n",
              "      background-color: #3B4455;\n",
              "      fill: #D2E3FC;\n",
              "    }\n",
              "\n",
              "    [theme=dark] .colab-df-convert:hover {\n",
              "      background-color: #434B5C;\n",
              "      box-shadow: 0px 1px 3px 1px rgba(0, 0, 0, 0.15);\n",
              "      filter: drop-shadow(0px 1px 2px rgba(0, 0, 0, 0.3));\n",
              "      fill: #FFFFFF;\n",
              "    }\n",
              "  </style>\n",
              "\n",
              "    <script>\n",
              "      const buttonEl =\n",
              "        document.querySelector('#df-39c51fef-9afb-4534-9dbb-33750790766b button.colab-df-convert');\n",
              "      buttonEl.style.display =\n",
              "        google.colab.kernel.accessAllowed ? 'block' : 'none';\n",
              "\n",
              "      async function convertToInteractive(key) {\n",
              "        const element = document.querySelector('#df-39c51fef-9afb-4534-9dbb-33750790766b');\n",
              "        const dataTable =\n",
              "          await google.colab.kernel.invokeFunction('convertToInteractive',\n",
              "                                                    [key], {});\n",
              "        if (!dataTable) return;\n",
              "\n",
              "        const docLinkHtml = 'Like what you see? Visit the ' +\n",
              "          '<a target=\"_blank\" href=https://colab.research.google.com/notebooks/data_table.ipynb>data table notebook</a>'\n",
              "          + ' to learn more about interactive tables.';\n",
              "        element.innerHTML = '';\n",
              "        dataTable['output_type'] = 'display_data';\n",
              "        await google.colab.output.renderOutput(dataTable, element);\n",
              "        const docLink = document.createElement('div');\n",
              "        docLink.innerHTML = docLinkHtml;\n",
              "        element.appendChild(docLink);\n",
              "      }\n",
              "    </script>\n",
              "  </div>\n",
              "\n",
              "\n",
              "<div id=\"df-2eb09d18-2a81-4a4b-8007-10f538d3514b\">\n",
              "  <button class=\"colab-df-quickchart\" onclick=\"quickchart('df-2eb09d18-2a81-4a4b-8007-10f538d3514b')\"\n",
              "            title=\"Suggest charts\"\n",
              "            style=\"display:none;\">\n",
              "\n",
              "<svg xmlns=\"http://www.w3.org/2000/svg\" height=\"24px\"viewBox=\"0 0 24 24\"\n",
              "     width=\"24px\">\n",
              "    <g>\n",
              "        <path d=\"M19 3H5c-1.1 0-2 .9-2 2v14c0 1.1.9 2 2 2h14c1.1 0 2-.9 2-2V5c0-1.1-.9-2-2-2zM9 17H7v-7h2v7zm4 0h-2V7h2v10zm4 0h-2v-4h2v4z\"/>\n",
              "    </g>\n",
              "</svg>\n",
              "  </button>\n",
              "\n",
              "<style>\n",
              "  .colab-df-quickchart {\n",
              "      --bg-color: #E8F0FE;\n",
              "      --fill-color: #1967D2;\n",
              "      --hover-bg-color: #E2EBFA;\n",
              "      --hover-fill-color: #174EA6;\n",
              "      --disabled-fill-color: #AAA;\n",
              "      --disabled-bg-color: #DDD;\n",
              "  }\n",
              "\n",
              "  [theme=dark] .colab-df-quickchart {\n",
              "      --bg-color: #3B4455;\n",
              "      --fill-color: #D2E3FC;\n",
              "      --hover-bg-color: #434B5C;\n",
              "      --hover-fill-color: #FFFFFF;\n",
              "      --disabled-bg-color: #3B4455;\n",
              "      --disabled-fill-color: #666;\n",
              "  }\n",
              "\n",
              "  .colab-df-quickchart {\n",
              "    background-color: var(--bg-color);\n",
              "    border: none;\n",
              "    border-radius: 50%;\n",
              "    cursor: pointer;\n",
              "    display: none;\n",
              "    fill: var(--fill-color);\n",
              "    height: 32px;\n",
              "    padding: 0;\n",
              "    width: 32px;\n",
              "  }\n",
              "\n",
              "  .colab-df-quickchart:hover {\n",
              "    background-color: var(--hover-bg-color);\n",
              "    box-shadow: 0 1px 2px rgba(60, 64, 67, 0.3), 0 1px 3px 1px rgba(60, 64, 67, 0.15);\n",
              "    fill: var(--button-hover-fill-color);\n",
              "  }\n",
              "\n",
              "  .colab-df-quickchart-complete:disabled,\n",
              "  .colab-df-quickchart-complete:disabled:hover {\n",
              "    background-color: var(--disabled-bg-color);\n",
              "    fill: var(--disabled-fill-color);\n",
              "    box-shadow: none;\n",
              "  }\n",
              "\n",
              "  .colab-df-spinner {\n",
              "    border: 2px solid var(--fill-color);\n",
              "    border-color: transparent;\n",
              "    border-bottom-color: var(--fill-color);\n",
              "    animation:\n",
              "      spin 1s steps(1) infinite;\n",
              "  }\n",
              "\n",
              "  @keyframes spin {\n",
              "    0% {\n",
              "      border-color: transparent;\n",
              "      border-bottom-color: var(--fill-color);\n",
              "      border-left-color: var(--fill-color);\n",
              "    }\n",
              "    20% {\n",
              "      border-color: transparent;\n",
              "      border-left-color: var(--fill-color);\n",
              "      border-top-color: var(--fill-color);\n",
              "    }\n",
              "    30% {\n",
              "      border-color: transparent;\n",
              "      border-left-color: var(--fill-color);\n",
              "      border-top-color: var(--fill-color);\n",
              "      border-right-color: var(--fill-color);\n",
              "    }\n",
              "    40% {\n",
              "      border-color: transparent;\n",
              "      border-right-color: var(--fill-color);\n",
              "      border-top-color: var(--fill-color);\n",
              "    }\n",
              "    60% {\n",
              "      border-color: transparent;\n",
              "      border-right-color: var(--fill-color);\n",
              "    }\n",
              "    80% {\n",
              "      border-color: transparent;\n",
              "      border-right-color: var(--fill-color);\n",
              "      border-bottom-color: var(--fill-color);\n",
              "    }\n",
              "    90% {\n",
              "      border-color: transparent;\n",
              "      border-bottom-color: var(--fill-color);\n",
              "    }\n",
              "  }\n",
              "</style>\n",
              "\n",
              "  <script>\n",
              "    async function quickchart(key) {\n",
              "      const quickchartButtonEl =\n",
              "        document.querySelector('#' + key + ' button');\n",
              "      quickchartButtonEl.disabled = true;  // To prevent multiple clicks.\n",
              "      quickchartButtonEl.classList.add('colab-df-spinner');\n",
              "      try {\n",
              "        const charts = await google.colab.kernel.invokeFunction(\n",
              "            'suggestCharts', [key], {});\n",
              "      } catch (error) {\n",
              "        console.error('Error during call to suggestCharts:', error);\n",
              "      }\n",
              "      quickchartButtonEl.classList.remove('colab-df-spinner');\n",
              "      quickchartButtonEl.classList.add('colab-df-quickchart-complete');\n",
              "    }\n",
              "    (() => {\n",
              "      let quickchartButtonEl =\n",
              "        document.querySelector('#df-2eb09d18-2a81-4a4b-8007-10f538d3514b button');\n",
              "      quickchartButtonEl.style.display =\n",
              "        google.colab.kernel.accessAllowed ? 'block' : 'none';\n",
              "    })();\n",
              "  </script>\n",
              "</div>\n",
              "\n",
              "    </div>\n",
              "  </div>\n"
            ],
            "application/vnd.google.colaboratory.intrinsic+json": {
              "type": "dataframe",
              "variable_name": "train_df",
              "summary": "{\n  \"name\": \"train_df\",\n  \"rows\": 501,\n  \"fields\": [\n    {\n      \"column\": \"article\",\n      \"properties\": {\n        \"dtype\": \"string\",\n        \"num_unique_values\": 501,\n        \"samples\": [\n          \"A phase I/II study of paclitaxel plus cisplatin as first-line therapy for head and neck cancers: preliminary results. Improved outcomes among patients with head and neck carcinomas require investigations of new drugs for induction therapy. Preliminary results of an Eastern Cooperative Oncology Group study of single-agent paclitaxel (Taxol; Bristol-Myers Squibb Company, Princeton, NJ) reported a 37% response rate in patients with head and neck cancer, and the paclitaxel/cisplatin combination has been used successfully and has significantly improved median response duration in ovarian cancer patients. We initiated a phase I/II trial to determine the response and toxicity of escalating paclitaxel doses combined with fixed-dose cisplatin with granulocyte colony-stimulating factor support in patients with untreated locally advanced inoperable head and neck carcinoma. To date, 23 men with a median age of 50 years and good performance status have entered the trial. Primary tumor sites were oropharynx, 10 patients; hypopharynx, four; larynx, two; oral cavity, three; unknown primary, two; and nasal cavity and parotid gland, one each. Of 20 patients evaluable for toxicity, four had stage III and 16 had stage IV disease. Treatment, given every 21 days for a maximum of three cycles, consisted of paclitaxel by 3-hour infusion followed the next day by a fixed dose of cisplatin (75 mg/m2). The dose levels incorporate escalating paclitaxel doses, and intrapatient escalations within a given dose level are permitted if toxicity permits. At the time of this writing, dose level 4 (260, 270, and 280 mg/m2) is being evaluated; three patients from this level are evaluable. With paclitaxel doses of 200 mg/m2 and higher, granulocyte colony-stimulating factor 5 micrograms/kg/d is given (days 4 through 12). Of 18 patients evaluable for response, seven (39%) achieved a complete response and six (33%) achieved a partial response. Three patients had no change and disease progressed in two. The overall response rate is 72%. Eleven responding patients had subsequent surgery/radiotherapy or radical radiotherapy. Two pathologic complete responses were observed in patients who had achieved clinical complete responses. Alopecia, paresthesias, and arthralgias/myalgias have occurred frequently, but with one exception (a grade 3 myalgia) they have been grade 1 or 2. No dose-limiting hematologic toxicity has been seen. Paclitaxel/cisplatin is an effective first-line regimen for locoregionally advanced head and neck cancer and continued study is warranted. Results thus far suggest no dose-response effect for paclitaxel doses above 200 mg/m2.\",\n          \"Acute vocal fold palsy after acute disulfiram intoxication. Acute peripheral neuropathy caused by a disulfiram overdose is very rare and there is no report of it leading to vocal fold palsy. A 49-year-old woman was transferred to our department because of quadriparesis, lancinating pain, sensory loss, and paresthesia of the distal limbs. One month previously, she had taken a single high dose of disulfiram (130 tablets of ALCOHOL STOP TAB, Shin-Poong Pharm. Co., Ansan, Korea) in a suicide attempt. She was not an alcoholic. For the first few days after ingestion, she was in a confused state and had mild to moderate ataxia and giddiness. She noticed hoarseness and distally accentuated motor and sensory dysfunction after she had recovered from this state. A nerve conduction study was consistent with severe sensorimotor axonal polyneuropathy. Laryngeal electromyography (thyroarytenoid muscle) showed ample denervation potentials. Laryngoscopy revealed asymmetric vocal fold movements during phonation. Her vocal change and weakness began to improve spontaneously about 3 weeks after transfer. This was a case of acute palsy of the recurrent laryngeal nerve and superimposed severe acute sensorimotor axonal polyneuropathy caused by high-dose disulfiram intoxication.\",\n          \"Sulfasalazine-induced lupus erythematosus. Pneumonitis, bilateral pleural effusions, echocardiographic evidence of cardiac tamponade, and positive autoantibodies developed in a 43-year-old man, who was receiving long-term sulfasalazine therapy for chronic ulcerative colitis. After cessation of the sulfasalazine and completion of a six-week course of corticosteroids, these problems resolved over a period of four to six months. It is suggested that the patient had sulfasalazine-induced lupus, which manifested with serositis and pulmonary parenchymal involvement in the absence of joint symptoms. Physicians who use sulfasalazine to treat patients with inflammatory bowel disease should be aware of the signs of sulfasalazine-induced lupus syndrome.\"\n        ],\n        \"semantic_type\": \"\",\n        \"description\": \"\"\n      }\n    }\n  ]\n}"
            }
          },
          "metadata": {},
          "execution_count": 11
        }
      ]
    },
    {
      "cell_type": "code",
      "source": [
        "test_df = pd.DataFrame(columns = [\"article\"])\n",
        "test_df[\"article\"] = test_article\n",
        "test_df.head()"
      ],
      "metadata": {
        "colab": {
          "base_uri": "https://localhost:8080/",
          "height": 206
        },
        "id": "7IHsIvKhh8uf",
        "outputId": "8fa0be0c-c31e-4e2d-eb14-8179575586e7"
      },
      "execution_count": null,
      "outputs": [
        {
          "output_type": "execute_result",
          "data": {
            "text/plain": [
              "                                             article\n",
              "0  Famotidine-associated delirium. A series of si...\n",
              "1  Indomethacin induced hypotension in sodium and...\n",
              "2  Late-onset scleroderma renal crisis induced by...\n",
              "3  The risk and associated factors of methampheta...\n",
              "4  Cerebellar sensory processing alterations impa..."
            ],
            "text/html": [
              "\n",
              "  <div id=\"df-be7a00b2-fc71-43a2-a1f5-92d3178e87eb\" class=\"colab-df-container\">\n",
              "    <div>\n",
              "<style scoped>\n",
              "    .dataframe tbody tr th:only-of-type {\n",
              "        vertical-align: middle;\n",
              "    }\n",
              "\n",
              "    .dataframe tbody tr th {\n",
              "        vertical-align: top;\n",
              "    }\n",
              "\n",
              "    .dataframe thead th {\n",
              "        text-align: right;\n",
              "    }\n",
              "</style>\n",
              "<table border=\"1\" class=\"dataframe\">\n",
              "  <thead>\n",
              "    <tr style=\"text-align: right;\">\n",
              "      <th></th>\n",
              "      <th>article</th>\n",
              "    </tr>\n",
              "  </thead>\n",
              "  <tbody>\n",
              "    <tr>\n",
              "      <th>0</th>\n",
              "      <td>Famotidine-associated delirium. A series of si...</td>\n",
              "    </tr>\n",
              "    <tr>\n",
              "      <th>1</th>\n",
              "      <td>Indomethacin induced hypotension in sodium and...</td>\n",
              "    </tr>\n",
              "    <tr>\n",
              "      <th>2</th>\n",
              "      <td>Late-onset scleroderma renal crisis induced by...</td>\n",
              "    </tr>\n",
              "    <tr>\n",
              "      <th>3</th>\n",
              "      <td>The risk and associated factors of methampheta...</td>\n",
              "    </tr>\n",
              "    <tr>\n",
              "      <th>4</th>\n",
              "      <td>Cerebellar sensory processing alterations impa...</td>\n",
              "    </tr>\n",
              "  </tbody>\n",
              "</table>\n",
              "</div>\n",
              "    <div class=\"colab-df-buttons\">\n",
              "\n",
              "  <div class=\"colab-df-container\">\n",
              "    <button class=\"colab-df-convert\" onclick=\"convertToInteractive('df-be7a00b2-fc71-43a2-a1f5-92d3178e87eb')\"\n",
              "            title=\"Convert this dataframe to an interactive table.\"\n",
              "            style=\"display:none;\">\n",
              "\n",
              "  <svg xmlns=\"http://www.w3.org/2000/svg\" height=\"24px\" viewBox=\"0 -960 960 960\">\n",
              "    <path d=\"M120-120v-720h720v720H120Zm60-500h600v-160H180v160Zm220 220h160v-160H400v160Zm0 220h160v-160H400v160ZM180-400h160v-160H180v160Zm440 0h160v-160H620v160ZM180-180h160v-160H180v160Zm440 0h160v-160H620v160Z\"/>\n",
              "  </svg>\n",
              "    </button>\n",
              "\n",
              "  <style>\n",
              "    .colab-df-container {\n",
              "      display:flex;\n",
              "      gap: 12px;\n",
              "    }\n",
              "\n",
              "    .colab-df-convert {\n",
              "      background-color: #E8F0FE;\n",
              "      border: none;\n",
              "      border-radius: 50%;\n",
              "      cursor: pointer;\n",
              "      display: none;\n",
              "      fill: #1967D2;\n",
              "      height: 32px;\n",
              "      padding: 0 0 0 0;\n",
              "      width: 32px;\n",
              "    }\n",
              "\n",
              "    .colab-df-convert:hover {\n",
              "      background-color: #E2EBFA;\n",
              "      box-shadow: 0px 1px 2px rgba(60, 64, 67, 0.3), 0px 1px 3px 1px rgba(60, 64, 67, 0.15);\n",
              "      fill: #174EA6;\n",
              "    }\n",
              "\n",
              "    .colab-df-buttons div {\n",
              "      margin-bottom: 4px;\n",
              "    }\n",
              "\n",
              "    [theme=dark] .colab-df-convert {\n",
              "      background-color: #3B4455;\n",
              "      fill: #D2E3FC;\n",
              "    }\n",
              "\n",
              "    [theme=dark] .colab-df-convert:hover {\n",
              "      background-color: #434B5C;\n",
              "      box-shadow: 0px 1px 3px 1px rgba(0, 0, 0, 0.15);\n",
              "      filter: drop-shadow(0px 1px 2px rgba(0, 0, 0, 0.3));\n",
              "      fill: #FFFFFF;\n",
              "    }\n",
              "  </style>\n",
              "\n",
              "    <script>\n",
              "      const buttonEl =\n",
              "        document.querySelector('#df-be7a00b2-fc71-43a2-a1f5-92d3178e87eb button.colab-df-convert');\n",
              "      buttonEl.style.display =\n",
              "        google.colab.kernel.accessAllowed ? 'block' : 'none';\n",
              "\n",
              "      async function convertToInteractive(key) {\n",
              "        const element = document.querySelector('#df-be7a00b2-fc71-43a2-a1f5-92d3178e87eb');\n",
              "        const dataTable =\n",
              "          await google.colab.kernel.invokeFunction('convertToInteractive',\n",
              "                                                    [key], {});\n",
              "        if (!dataTable) return;\n",
              "\n",
              "        const docLinkHtml = 'Like what you see? Visit the ' +\n",
              "          '<a target=\"_blank\" href=https://colab.research.google.com/notebooks/data_table.ipynb>data table notebook</a>'\n",
              "          + ' to learn more about interactive tables.';\n",
              "        element.innerHTML = '';\n",
              "        dataTable['output_type'] = 'display_data';\n",
              "        await google.colab.output.renderOutput(dataTable, element);\n",
              "        const docLink = document.createElement('div');\n",
              "        docLink.innerHTML = docLinkHtml;\n",
              "        element.appendChild(docLink);\n",
              "      }\n",
              "    </script>\n",
              "  </div>\n",
              "\n",
              "\n",
              "<div id=\"df-e13c5d10-8090-471f-8af8-6f8d4d60f06a\">\n",
              "  <button class=\"colab-df-quickchart\" onclick=\"quickchart('df-e13c5d10-8090-471f-8af8-6f8d4d60f06a')\"\n",
              "            title=\"Suggest charts\"\n",
              "            style=\"display:none;\">\n",
              "\n",
              "<svg xmlns=\"http://www.w3.org/2000/svg\" height=\"24px\"viewBox=\"0 0 24 24\"\n",
              "     width=\"24px\">\n",
              "    <g>\n",
              "        <path d=\"M19 3H5c-1.1 0-2 .9-2 2v14c0 1.1.9 2 2 2h14c1.1 0 2-.9 2-2V5c0-1.1-.9-2-2-2zM9 17H7v-7h2v7zm4 0h-2V7h2v10zm4 0h-2v-4h2v4z\"/>\n",
              "    </g>\n",
              "</svg>\n",
              "  </button>\n",
              "\n",
              "<style>\n",
              "  .colab-df-quickchart {\n",
              "      --bg-color: #E8F0FE;\n",
              "      --fill-color: #1967D2;\n",
              "      --hover-bg-color: #E2EBFA;\n",
              "      --hover-fill-color: #174EA6;\n",
              "      --disabled-fill-color: #AAA;\n",
              "      --disabled-bg-color: #DDD;\n",
              "  }\n",
              "\n",
              "  [theme=dark] .colab-df-quickchart {\n",
              "      --bg-color: #3B4455;\n",
              "      --fill-color: #D2E3FC;\n",
              "      --hover-bg-color: #434B5C;\n",
              "      --hover-fill-color: #FFFFFF;\n",
              "      --disabled-bg-color: #3B4455;\n",
              "      --disabled-fill-color: #666;\n",
              "  }\n",
              "\n",
              "  .colab-df-quickchart {\n",
              "    background-color: var(--bg-color);\n",
              "    border: none;\n",
              "    border-radius: 50%;\n",
              "    cursor: pointer;\n",
              "    display: none;\n",
              "    fill: var(--fill-color);\n",
              "    height: 32px;\n",
              "    padding: 0;\n",
              "    width: 32px;\n",
              "  }\n",
              "\n",
              "  .colab-df-quickchart:hover {\n",
              "    background-color: var(--hover-bg-color);\n",
              "    box-shadow: 0 1px 2px rgba(60, 64, 67, 0.3), 0 1px 3px 1px rgba(60, 64, 67, 0.15);\n",
              "    fill: var(--button-hover-fill-color);\n",
              "  }\n",
              "\n",
              "  .colab-df-quickchart-complete:disabled,\n",
              "  .colab-df-quickchart-complete:disabled:hover {\n",
              "    background-color: var(--disabled-bg-color);\n",
              "    fill: var(--disabled-fill-color);\n",
              "    box-shadow: none;\n",
              "  }\n",
              "\n",
              "  .colab-df-spinner {\n",
              "    border: 2px solid var(--fill-color);\n",
              "    border-color: transparent;\n",
              "    border-bottom-color: var(--fill-color);\n",
              "    animation:\n",
              "      spin 1s steps(1) infinite;\n",
              "  }\n",
              "\n",
              "  @keyframes spin {\n",
              "    0% {\n",
              "      border-color: transparent;\n",
              "      border-bottom-color: var(--fill-color);\n",
              "      border-left-color: var(--fill-color);\n",
              "    }\n",
              "    20% {\n",
              "      border-color: transparent;\n",
              "      border-left-color: var(--fill-color);\n",
              "      border-top-color: var(--fill-color);\n",
              "    }\n",
              "    30% {\n",
              "      border-color: transparent;\n",
              "      border-left-color: var(--fill-color);\n",
              "      border-top-color: var(--fill-color);\n",
              "      border-right-color: var(--fill-color);\n",
              "    }\n",
              "    40% {\n",
              "      border-color: transparent;\n",
              "      border-right-color: var(--fill-color);\n",
              "      border-top-color: var(--fill-color);\n",
              "    }\n",
              "    60% {\n",
              "      border-color: transparent;\n",
              "      border-right-color: var(--fill-color);\n",
              "    }\n",
              "    80% {\n",
              "      border-color: transparent;\n",
              "      border-right-color: var(--fill-color);\n",
              "      border-bottom-color: var(--fill-color);\n",
              "    }\n",
              "    90% {\n",
              "      border-color: transparent;\n",
              "      border-bottom-color: var(--fill-color);\n",
              "    }\n",
              "  }\n",
              "</style>\n",
              "\n",
              "  <script>\n",
              "    async function quickchart(key) {\n",
              "      const quickchartButtonEl =\n",
              "        document.querySelector('#' + key + ' button');\n",
              "      quickchartButtonEl.disabled = true;  // To prevent multiple clicks.\n",
              "      quickchartButtonEl.classList.add('colab-df-spinner');\n",
              "      try {\n",
              "        const charts = await google.colab.kernel.invokeFunction(\n",
              "            'suggestCharts', [key], {});\n",
              "      } catch (error) {\n",
              "        console.error('Error during call to suggestCharts:', error);\n",
              "      }\n",
              "      quickchartButtonEl.classList.remove('colab-df-spinner');\n",
              "      quickchartButtonEl.classList.add('colab-df-quickchart-complete');\n",
              "    }\n",
              "    (() => {\n",
              "      let quickchartButtonEl =\n",
              "        document.querySelector('#df-e13c5d10-8090-471f-8af8-6f8d4d60f06a button');\n",
              "      quickchartButtonEl.style.display =\n",
              "        google.colab.kernel.accessAllowed ? 'block' : 'none';\n",
              "    })();\n",
              "  </script>\n",
              "</div>\n",
              "\n",
              "    </div>\n",
              "  </div>\n"
            ],
            "application/vnd.google.colaboratory.intrinsic+json": {
              "type": "dataframe",
              "variable_name": "test_df",
              "summary": "{\n  \"name\": \"test_df\",\n  \"rows\": 501,\n  \"fields\": [\n    {\n      \"column\": \"article\",\n      \"properties\": {\n        \"dtype\": \"string\",\n        \"num_unique_values\": 501,\n        \"samples\": [\n          \"High-dose 5-fluorouracil / folinic acid in combination with three-weekly mitomycin C in the treatment of advanced gastric cancer. A phase II study. BACKGROUND: The 24-hour continuous infusion of 5-fluorouracil (5-FU) and folinic acid (FA) as part of several new multidrug chemotherapy regimens in advanced gastric cancer (AGC) has shown to be effective, with low toxicity. In a previous phase II study with 3-weekly bolus 5-FU, FA and mitomycin C (MMC) we found a low toxicity rate and response rates comparable to those of regimens such as ELF, FAM or FAMTX, and a promising median overall survival. In order to improve this MMC-dependent schedule we initiated a phase II study with high-dose 5-FU/FA and 3-weekly bolus MMC. PATIENTS AND METHODS: From February, 1998 to September, 2000 we recruited 33 patients with AGC to receive weekly 24-hour 5-FU 2,600 mg/m(2) preceded by 2-hour FA 500 mg/m(2) for 6 weeks, followed by a 2-week rest period. Bolus MMC 10 mg/m(2) was added in 3-weekly intervals. Treatment given on an outpatient basis, using portable pump systems, was repeated on day 57. Patients' characteristics were: male/female ratio 20/13; median age 57 (27-75) years; median WHO status 1 (0-2). 18 patients had a primary AGC, and 15 showed a relapsed AGC. Median follow-up was 11.8 months (range of those surviving: 2.7-11.8 months). RESULTS: 32 patients were evaluable for response - complete remission 9.1% (n = 3), partial remission 45.5% (n = 15), no change 27.3% (n = 9), progressive disease 15.1% (n = 5). Median overall survival time was 10.2 months [95% confidence interval (CI): 8.7-11.6], and median progression-free survival time was 7.6 months (95% CI: 4.4-10.9). The worst toxicities (%) observed were (CTC-NCI 1/2/3): leukopenia 45.5/18.2/6.1, thrombocytopenia 33.3/9.1/6.1, vomitus 24.2/9.1/0, diarrhea 36.4/6.1/3.0, stomatitis 18.2/9.1/0, hand-foot syndrome 12.1/0/0. Two patients developed hemolytic-uremic syndrome (HUS). CONCLUSIONS: High-dose 5-FU/FA/MMC is an effective and well-tolerated outpatient regimen for AGC (objective response rate 54.6%). It may serve as an alternative to cisplatin-containing regimens; however, it has to be considered that possibly HUS may occur.\",\n          \"Chronic treatment with metformin suppresses toll-like receptor 4 signaling and attenuates left ventricular dysfunction following myocardial infarction. Acute treatment with metformin has a protective effect in myocardial infarction by suppression of inflammatory responses due to activation of AMP-activated protein kinase (AMPK). In the present study, the effect of chronic pre-treatment with metformin on cardiac dysfunction and toll-like receptor 4 (TLR4) activities following myocardial infarction and their relation with AMPK were assessed. Male Wistar rats were randomly assigned to one of 5 groups (n=6): normal control and groups were injected isoproterenol after chronic pre-treatment with 0, 25, 50, or 100mg/kg of metformin twice daily for 14 days. Isoproterenol (100mg/kg) was injected subcutaneously on the 13th and 14th days to induce acute myocardial infarction. Isoproterenol alone decreased left ventricular systolic pressure and myocardial contractility indexed as LVdp/dtmax and LVdp/dtmin. The left ventricular dysfunction was significantly lower in the groups treated with 25 and 50mg/kg of metformin. Metfromin markedly lowered isoproterenol-induced elevation in the levels of TLR4 mRNA, myeloid differentiation protein 88 (MyD88), tumor necrosis factor-alpha (TNF-a), and interleukin 6 (IL-6) in the heart tissues. Similar changes were also seen in the serum levels of TNF-a and IL-6. However, the lower doses of 25 and 50mg/kg were more effective than 100mg/kg. Phosphorylated AMPKa (p-AMPK) in the myocardium was significantly elevated by 25mg/kg of metformin, slightly by 50mg/kg, but not by 100mg/kg. Chronic pre-treatment with metformin reduces post-myocardial infarction cardiac dysfunction and suppresses inflammatory responses, possibly through inhibition of TLR4 activities. This mechanism can be considered as a target to protect infarcted myocardium.\",\n          \"Respiratory pattern in a rat model of epilepsy. PURPOSE: Apnea is known to occur during seizures, but systematic studies of ictal respiratory changes in adults are few. Data regarding respiratory pattern defects during interictal periods also are scarce. Here we sought to generate information with regard to the interictal period in animals with pilocarpine-induced epilepsy. METHODS: Twelve rats (six chronically epileptic animals and six controls) were anesthetized, given tracheotomies, and subjected to hyperventilation or hypoventilation conditions. Breathing movements caused changes in thoracic volume and forced air to flow tidally through a pneumotachograph. This flow was measured by using a differential pressure transducer, passed through a polygraph, and from this to a computer with custom software that derived ventilation (VE), tidal volume (VT), inspiratory time (TI), expiratory time (TE), breathing frequency (f), and mean inspiratory flow (VT/TI) on a breath-by-breath basis. RESULTS: The hyperventilation maneuver caused a decrease in spontaneous ventilation in pilocarpine-treated and control rats. Although VE had a similar decrease in both groups, in the epileptic group, the decrease in VE was due to a significant (p < 0.05) increase in TE peak in relation to that of the control animals. The hypoventilation maneuver led to an increase in the arterial Paco2, followed by an increase in VE. In the epileptic group, the increase in VE was mediated by a significant (p < 0.05) decrease in TE peak compared with the control group. Systemic application of KCN, to evaluate the effects of peripheral chemoreception activation on ventilation, led to a similar increase in VE for both groups. CONCLUSIONS: The data indicate that pilocarpine-treated animals have an altered ability to react to (or compensate for) blood gas changes with changes in ventilation and suggest that it is centrally determined. We speculate on the possible relation of the current findings on treating different epilepsy-associated conditions.\"\n        ],\n        \"semantic_type\": \"\",\n        \"description\": \"\"\n      }\n    }\n  ]\n}"
            }
          },
          "metadata": {},
          "execution_count": 12
        }
      ]
    },
    {
      "cell_type": "code",
      "source": [
        "train_df['article'][0]"
      ],
      "metadata": {
        "colab": {
          "base_uri": "https://localhost:8080/",
          "height": 244
        },
        "id": "uhYHpI4uiAKU",
        "outputId": "c87fda06-aaaa-4c71-e6b7-36dc9c0e56b9"
      },
      "execution_count": null,
      "outputs": [
        {
          "output_type": "execute_result",
          "data": {
            "text/plain": [
              "'Naloxone reverses the antihypertensive effect of clonidine. In unanesthetized, spontaneously hypertensive rats the decrease in blood pressure and heart rate produced by intravenous clonidine, 5 to 20 micrograms/kg, was inhibited or reversed by nalozone, 0.2 to 2 mg/kg. The hypotensive effect of 100 mg/kg alpha-methyldopa was also partially reversed by naloxone. Naloxone alone did not affect either blood pressure or heart rate. In brain membranes from spontaneously hypertensive rats clonidine, 10(-8) to 10(-5) M, did not influence stereoselective binding of [3H]-naloxone (8 nM), and naloxone, 10(-8) to 10(-4) M, did not influence clonidine-suppressible binding of [3H]-dihydroergocryptine (1 nM). These findings indicate that in spontaneously hypertensive rats the effects of central alpha-adrenoceptor stimulation involve activation of opiate receptors. As naloxone and clonidine do not appear to interact with the same receptor site, the observed functional antagonism suggests the release of an endogenous opiate by clonidine or alpha-methyldopa and the possible role of the opiate in the central control of sympathetic tone.'"
            ],
            "application/vnd.google.colaboratory.intrinsic+json": {
              "type": "string"
            }
          },
          "metadata": {},
          "execution_count": 13
        }
      ]
    },
    {
      "cell_type": "markdown",
      "source": [
        "get labels"
      ],
      "metadata": {
        "id": "2X5FZQS9jbud"
      }
    },
    {
      "cell_type": "code",
      "source": [
        "\n",
        "\n",
        "def get_labels(text):\n",
        "    # Extract the lines with tab-separated values\n",
        "    l = re.findall(r\"\\t(.*)\", text)\n",
        "    l = [x.split(\"\\t\") for x in l]\n",
        "    labels = []\n",
        "    for i in l:\n",
        "        # Skip lines with 'CID' or lines that don't have enough elements\n",
        "        if len(i) < 4 or i[0] == \"CID\":\n",
        "            continue\n",
        "        labels.append((int(i[0]), int(i[1]), i[3]))\n",
        "    return labels\n",
        "\n",
        "def get_labels_and_entity(text):\n",
        "    # Extract the lines with tab-separated values\n",
        "    l = re.findall(r\"\\t(.*)\", text)\n",
        "    l = [x.split(\"\\t\") for x in l]\n",
        "    labels = []\n",
        "    for i in l:\n",
        "        # Skip lines with 'CID' or lines that don't have enough elements\n",
        "        if len(i) < 4 or i[0] == \"CID\":\n",
        "            continue\n",
        "        labels.append((int(i[0]), int(i[1]), i[3], i[2]))  # Add the entity as well\n",
        "    return labels\n"
      ],
      "metadata": {
        "id": "oXpK8MNKjRN7"
      },
      "execution_count": null,
      "outputs": []
    },
    {
      "cell_type": "code",
      "source": [
        "train_labels = [get_labels(x) for x in train]\n",
        "len(train_labels)"
      ],
      "metadata": {
        "colab": {
          "base_uri": "https://localhost:8080/"
        },
        "id": "zJY8pybmkiry",
        "outputId": "5dc72bb7-871d-45a6-eaa6-5f508e4c04f7"
      },
      "execution_count": null,
      "outputs": [
        {
          "output_type": "execute_result",
          "data": {
            "text/plain": [
              "501"
            ]
          },
          "metadata": {},
          "execution_count": 15
        }
      ]
    },
    {
      "cell_type": "code",
      "source": [
        "test_labels = [get_labels(x) for x in test]\n",
        "len(test_labels)"
      ],
      "metadata": {
        "colab": {
          "base_uri": "https://localhost:8080/"
        },
        "id": "q8ucASGjlOwg",
        "outputId": "f8dc441e-902a-4799-adcc-52f77c42eeaa"
      },
      "execution_count": null,
      "outputs": [
        {
          "output_type": "execute_result",
          "data": {
            "text/plain": [
              "501"
            ]
          },
          "metadata": {},
          "execution_count": 16
        }
      ]
    },
    {
      "cell_type": "code",
      "source": [
        "train_df[\"labels\"][0]"
      ],
      "metadata": {
        "colab": {
          "base_uri": "https://localhost:8080/"
        },
        "id": "92dIq_0Kly0-",
        "outputId": "71e667c4-6869-4a63-f7cd-30129371ab29"
      },
      "execution_count": null,
      "outputs": [
        {
          "output_type": "execute_result",
          "data": {
            "text/plain": [
              "[(0, 8, 'Chemical'),\n",
              " (49, 58, 'Chemical'),\n",
              " (93, 105, 'Disease'),\n",
              " (181, 190, 'Chemical'),\n",
              " (244, 252, 'Chemical'),\n",
              " (274, 285, 'Disease'),\n",
              " (306, 322, 'Chemical'),\n",
              " (354, 362, 'Chemical'),\n",
              " (364, 372, 'Chemical'),\n",
              " (469, 481, 'Disease'),\n",
              " (487, 496, 'Chemical'),\n",
              " (563, 576, 'Chemical'),\n",
              " (589, 597, 'Chemical'),\n",
              " (637, 646, 'Chemical'),\n",
              " (671, 695, 'Chemical'),\n",
              " (750, 762, 'Disease'),\n",
              " (865, 873, 'Chemical'),\n",
              " (878, 887, 'Chemical'),\n",
              " (1026, 1035, 'Chemical'),\n",
              " (1039, 1055, 'Chemical')]"
            ]
          },
          "metadata": {},
          "execution_count": 18
        }
      ]
    },
    {
      "cell_type": "markdown",
      "source": [
        "adding labels to the dataframe"
      ],
      "metadata": {
        "id": "Qmfnw4W0lo43"
      }
    },
    {
      "cell_type": "code",
      "source": [
        "train_df[\"labels\"] = train_labels\n",
        "train_df.head()"
      ],
      "metadata": {
        "colab": {
          "base_uri": "https://localhost:8080/",
          "height": 293
        },
        "id": "khINaiZjlSCz",
        "outputId": "804842c2-18f1-4efd-d9b2-6a05b588f3cd"
      },
      "execution_count": null,
      "outputs": [
        {
          "output_type": "execute_result",
          "data": {
            "text/plain": [
              "                                             article  \\\n",
              "0  Naloxone reverses the antihypertensive effect ...   \n",
              "1  Lidocaine-induced cardiac asystole. Intravenou...   \n",
              "2  Suxamethonium infusion rate and observed fasci...   \n",
              "3  Galanthamine hydrobromide, a longer acting ant...   \n",
              "4  Effects of uninephrectomy and high protein fee...   \n",
              "\n",
              "                                              labels  \n",
              "0  [(0, 8, Chemical), (49, 58, Chemical), (93, 10...  \n",
              "1  [(0, 9, Chemical), (18, 34, Disease), (90, 99,...  \n",
              "2  [(0, 13, Chemical), (41, 55, Disease), (80, 10...  \n",
              "3  [(0, 25, Chemical), (111, 122, Chemical), (124...  \n",
              "4  [(54, 61, Chemical), (70, 91, Disease), (111, ...  "
            ],
            "text/html": [
              "\n",
              "  <div id=\"df-7689b74f-398f-45bc-9dcd-9715ee112c68\" class=\"colab-df-container\">\n",
              "    <div>\n",
              "<style scoped>\n",
              "    .dataframe tbody tr th:only-of-type {\n",
              "        vertical-align: middle;\n",
              "    }\n",
              "\n",
              "    .dataframe tbody tr th {\n",
              "        vertical-align: top;\n",
              "    }\n",
              "\n",
              "    .dataframe thead th {\n",
              "        text-align: right;\n",
              "    }\n",
              "</style>\n",
              "<table border=\"1\" class=\"dataframe\">\n",
              "  <thead>\n",
              "    <tr style=\"text-align: right;\">\n",
              "      <th></th>\n",
              "      <th>article</th>\n",
              "      <th>labels</th>\n",
              "    </tr>\n",
              "  </thead>\n",
              "  <tbody>\n",
              "    <tr>\n",
              "      <th>0</th>\n",
              "      <td>Naloxone reverses the antihypertensive effect ...</td>\n",
              "      <td>[(0, 8, Chemical), (49, 58, Chemical), (93, 10...</td>\n",
              "    </tr>\n",
              "    <tr>\n",
              "      <th>1</th>\n",
              "      <td>Lidocaine-induced cardiac asystole. Intravenou...</td>\n",
              "      <td>[(0, 9, Chemical), (18, 34, Disease), (90, 99,...</td>\n",
              "    </tr>\n",
              "    <tr>\n",
              "      <th>2</th>\n",
              "      <td>Suxamethonium infusion rate and observed fasci...</td>\n",
              "      <td>[(0, 13, Chemical), (41, 55, Disease), (80, 10...</td>\n",
              "    </tr>\n",
              "    <tr>\n",
              "      <th>3</th>\n",
              "      <td>Galanthamine hydrobromide, a longer acting ant...</td>\n",
              "      <td>[(0, 25, Chemical), (111, 122, Chemical), (124...</td>\n",
              "    </tr>\n",
              "    <tr>\n",
              "      <th>4</th>\n",
              "      <td>Effects of uninephrectomy and high protein fee...</td>\n",
              "      <td>[(54, 61, Chemical), (70, 91, Disease), (111, ...</td>\n",
              "    </tr>\n",
              "  </tbody>\n",
              "</table>\n",
              "</div>\n",
              "    <div class=\"colab-df-buttons\">\n",
              "\n",
              "  <div class=\"colab-df-container\">\n",
              "    <button class=\"colab-df-convert\" onclick=\"convertToInteractive('df-7689b74f-398f-45bc-9dcd-9715ee112c68')\"\n",
              "            title=\"Convert this dataframe to an interactive table.\"\n",
              "            style=\"display:none;\">\n",
              "\n",
              "  <svg xmlns=\"http://www.w3.org/2000/svg\" height=\"24px\" viewBox=\"0 -960 960 960\">\n",
              "    <path d=\"M120-120v-720h720v720H120Zm60-500h600v-160H180v160Zm220 220h160v-160H400v160Zm0 220h160v-160H400v160ZM180-400h160v-160H180v160Zm440 0h160v-160H620v160ZM180-180h160v-160H180v160Zm440 0h160v-160H620v160Z\"/>\n",
              "  </svg>\n",
              "    </button>\n",
              "\n",
              "  <style>\n",
              "    .colab-df-container {\n",
              "      display:flex;\n",
              "      gap: 12px;\n",
              "    }\n",
              "\n",
              "    .colab-df-convert {\n",
              "      background-color: #E8F0FE;\n",
              "      border: none;\n",
              "      border-radius: 50%;\n",
              "      cursor: pointer;\n",
              "      display: none;\n",
              "      fill: #1967D2;\n",
              "      height: 32px;\n",
              "      padding: 0 0 0 0;\n",
              "      width: 32px;\n",
              "    }\n",
              "\n",
              "    .colab-df-convert:hover {\n",
              "      background-color: #E2EBFA;\n",
              "      box-shadow: 0px 1px 2px rgba(60, 64, 67, 0.3), 0px 1px 3px 1px rgba(60, 64, 67, 0.15);\n",
              "      fill: #174EA6;\n",
              "    }\n",
              "\n",
              "    .colab-df-buttons div {\n",
              "      margin-bottom: 4px;\n",
              "    }\n",
              "\n",
              "    [theme=dark] .colab-df-convert {\n",
              "      background-color: #3B4455;\n",
              "      fill: #D2E3FC;\n",
              "    }\n",
              "\n",
              "    [theme=dark] .colab-df-convert:hover {\n",
              "      background-color: #434B5C;\n",
              "      box-shadow: 0px 1px 3px 1px rgba(0, 0, 0, 0.15);\n",
              "      filter: drop-shadow(0px 1px 2px rgba(0, 0, 0, 0.3));\n",
              "      fill: #FFFFFF;\n",
              "    }\n",
              "  </style>\n",
              "\n",
              "    <script>\n",
              "      const buttonEl =\n",
              "        document.querySelector('#df-7689b74f-398f-45bc-9dcd-9715ee112c68 button.colab-df-convert');\n",
              "      buttonEl.style.display =\n",
              "        google.colab.kernel.accessAllowed ? 'block' : 'none';\n",
              "\n",
              "      async function convertToInteractive(key) {\n",
              "        const element = document.querySelector('#df-7689b74f-398f-45bc-9dcd-9715ee112c68');\n",
              "        const dataTable =\n",
              "          await google.colab.kernel.invokeFunction('convertToInteractive',\n",
              "                                                    [key], {});\n",
              "        if (!dataTable) return;\n",
              "\n",
              "        const docLinkHtml = 'Like what you see? Visit the ' +\n",
              "          '<a target=\"_blank\" href=https://colab.research.google.com/notebooks/data_table.ipynb>data table notebook</a>'\n",
              "          + ' to learn more about interactive tables.';\n",
              "        element.innerHTML = '';\n",
              "        dataTable['output_type'] = 'display_data';\n",
              "        await google.colab.output.renderOutput(dataTable, element);\n",
              "        const docLink = document.createElement('div');\n",
              "        docLink.innerHTML = docLinkHtml;\n",
              "        element.appendChild(docLink);\n",
              "      }\n",
              "    </script>\n",
              "  </div>\n",
              "\n",
              "\n",
              "<div id=\"df-0befe7cd-75d0-4ecb-9e34-b85daabd084e\">\n",
              "  <button class=\"colab-df-quickchart\" onclick=\"quickchart('df-0befe7cd-75d0-4ecb-9e34-b85daabd084e')\"\n",
              "            title=\"Suggest charts\"\n",
              "            style=\"display:none;\">\n",
              "\n",
              "<svg xmlns=\"http://www.w3.org/2000/svg\" height=\"24px\"viewBox=\"0 0 24 24\"\n",
              "     width=\"24px\">\n",
              "    <g>\n",
              "        <path d=\"M19 3H5c-1.1 0-2 .9-2 2v14c0 1.1.9 2 2 2h14c1.1 0 2-.9 2-2V5c0-1.1-.9-2-2-2zM9 17H7v-7h2v7zm4 0h-2V7h2v10zm4 0h-2v-4h2v4z\"/>\n",
              "    </g>\n",
              "</svg>\n",
              "  </button>\n",
              "\n",
              "<style>\n",
              "  .colab-df-quickchart {\n",
              "      --bg-color: #E8F0FE;\n",
              "      --fill-color: #1967D2;\n",
              "      --hover-bg-color: #E2EBFA;\n",
              "      --hover-fill-color: #174EA6;\n",
              "      --disabled-fill-color: #AAA;\n",
              "      --disabled-bg-color: #DDD;\n",
              "  }\n",
              "\n",
              "  [theme=dark] .colab-df-quickchart {\n",
              "      --bg-color: #3B4455;\n",
              "      --fill-color: #D2E3FC;\n",
              "      --hover-bg-color: #434B5C;\n",
              "      --hover-fill-color: #FFFFFF;\n",
              "      --disabled-bg-color: #3B4455;\n",
              "      --disabled-fill-color: #666;\n",
              "  }\n",
              "\n",
              "  .colab-df-quickchart {\n",
              "    background-color: var(--bg-color);\n",
              "    border: none;\n",
              "    border-radius: 50%;\n",
              "    cursor: pointer;\n",
              "    display: none;\n",
              "    fill: var(--fill-color);\n",
              "    height: 32px;\n",
              "    padding: 0;\n",
              "    width: 32px;\n",
              "  }\n",
              "\n",
              "  .colab-df-quickchart:hover {\n",
              "    background-color: var(--hover-bg-color);\n",
              "    box-shadow: 0 1px 2px rgba(60, 64, 67, 0.3), 0 1px 3px 1px rgba(60, 64, 67, 0.15);\n",
              "    fill: var(--button-hover-fill-color);\n",
              "  }\n",
              "\n",
              "  .colab-df-quickchart-complete:disabled,\n",
              "  .colab-df-quickchart-complete:disabled:hover {\n",
              "    background-color: var(--disabled-bg-color);\n",
              "    fill: var(--disabled-fill-color);\n",
              "    box-shadow: none;\n",
              "  }\n",
              "\n",
              "  .colab-df-spinner {\n",
              "    border: 2px solid var(--fill-color);\n",
              "    border-color: transparent;\n",
              "    border-bottom-color: var(--fill-color);\n",
              "    animation:\n",
              "      spin 1s steps(1) infinite;\n",
              "  }\n",
              "\n",
              "  @keyframes spin {\n",
              "    0% {\n",
              "      border-color: transparent;\n",
              "      border-bottom-color: var(--fill-color);\n",
              "      border-left-color: var(--fill-color);\n",
              "    }\n",
              "    20% {\n",
              "      border-color: transparent;\n",
              "      border-left-color: var(--fill-color);\n",
              "      border-top-color: var(--fill-color);\n",
              "    }\n",
              "    30% {\n",
              "      border-color: transparent;\n",
              "      border-left-color: var(--fill-color);\n",
              "      border-top-color: var(--fill-color);\n",
              "      border-right-color: var(--fill-color);\n",
              "    }\n",
              "    40% {\n",
              "      border-color: transparent;\n",
              "      border-right-color: var(--fill-color);\n",
              "      border-top-color: var(--fill-color);\n",
              "    }\n",
              "    60% {\n",
              "      border-color: transparent;\n",
              "      border-right-color: var(--fill-color);\n",
              "    }\n",
              "    80% {\n",
              "      border-color: transparent;\n",
              "      border-right-color: var(--fill-color);\n",
              "      border-bottom-color: var(--fill-color);\n",
              "    }\n",
              "    90% {\n",
              "      border-color: transparent;\n",
              "      border-bottom-color: var(--fill-color);\n",
              "    }\n",
              "  }\n",
              "</style>\n",
              "\n",
              "  <script>\n",
              "    async function quickchart(key) {\n",
              "      const quickchartButtonEl =\n",
              "        document.querySelector('#' + key + ' button');\n",
              "      quickchartButtonEl.disabled = true;  // To prevent multiple clicks.\n",
              "      quickchartButtonEl.classList.add('colab-df-spinner');\n",
              "      try {\n",
              "        const charts = await google.colab.kernel.invokeFunction(\n",
              "            'suggestCharts', [key], {});\n",
              "      } catch (error) {\n",
              "        console.error('Error during call to suggestCharts:', error);\n",
              "      }\n",
              "      quickchartButtonEl.classList.remove('colab-df-spinner');\n",
              "      quickchartButtonEl.classList.add('colab-df-quickchart-complete');\n",
              "    }\n",
              "    (() => {\n",
              "      let quickchartButtonEl =\n",
              "        document.querySelector('#df-0befe7cd-75d0-4ecb-9e34-b85daabd084e button');\n",
              "      quickchartButtonEl.style.display =\n",
              "        google.colab.kernel.accessAllowed ? 'block' : 'none';\n",
              "    })();\n",
              "  </script>\n",
              "</div>\n",
              "\n",
              "    </div>\n",
              "  </div>\n"
            ],
            "application/vnd.google.colaboratory.intrinsic+json": {
              "type": "dataframe",
              "variable_name": "train_df",
              "summary": "{\n  \"name\": \"train_df\",\n  \"rows\": 501,\n  \"fields\": [\n    {\n      \"column\": \"article\",\n      \"properties\": {\n        \"dtype\": \"string\",\n        \"num_unique_values\": 501,\n        \"samples\": [\n          \"A phase I/II study of paclitaxel plus cisplatin as first-line therapy for head and neck cancers: preliminary results. Improved outcomes among patients with head and neck carcinomas require investigations of new drugs for induction therapy. Preliminary results of an Eastern Cooperative Oncology Group study of single-agent paclitaxel (Taxol; Bristol-Myers Squibb Company, Princeton, NJ) reported a 37% response rate in patients with head and neck cancer, and the paclitaxel/cisplatin combination has been used successfully and has significantly improved median response duration in ovarian cancer patients. We initiated a phase I/II trial to determine the response and toxicity of escalating paclitaxel doses combined with fixed-dose cisplatin with granulocyte colony-stimulating factor support in patients with untreated locally advanced inoperable head and neck carcinoma. To date, 23 men with a median age of 50 years and good performance status have entered the trial. Primary tumor sites were oropharynx, 10 patients; hypopharynx, four; larynx, two; oral cavity, three; unknown primary, two; and nasal cavity and parotid gland, one each. Of 20 patients evaluable for toxicity, four had stage III and 16 had stage IV disease. Treatment, given every 21 days for a maximum of three cycles, consisted of paclitaxel by 3-hour infusion followed the next day by a fixed dose of cisplatin (75 mg/m2). The dose levels incorporate escalating paclitaxel doses, and intrapatient escalations within a given dose level are permitted if toxicity permits. At the time of this writing, dose level 4 (260, 270, and 280 mg/m2) is being evaluated; three patients from this level are evaluable. With paclitaxel doses of 200 mg/m2 and higher, granulocyte colony-stimulating factor 5 micrograms/kg/d is given (days 4 through 12). Of 18 patients evaluable for response, seven (39%) achieved a complete response and six (33%) achieved a partial response. Three patients had no change and disease progressed in two. The overall response rate is 72%. Eleven responding patients had subsequent surgery/radiotherapy or radical radiotherapy. Two pathologic complete responses were observed in patients who had achieved clinical complete responses. Alopecia, paresthesias, and arthralgias/myalgias have occurred frequently, but with one exception (a grade 3 myalgia) they have been grade 1 or 2. No dose-limiting hematologic toxicity has been seen. Paclitaxel/cisplatin is an effective first-line regimen for locoregionally advanced head and neck cancer and continued study is warranted. Results thus far suggest no dose-response effect for paclitaxel doses above 200 mg/m2.\",\n          \"Acute vocal fold palsy after acute disulfiram intoxication. Acute peripheral neuropathy caused by a disulfiram overdose is very rare and there is no report of it leading to vocal fold palsy. A 49-year-old woman was transferred to our department because of quadriparesis, lancinating pain, sensory loss, and paresthesia of the distal limbs. One month previously, she had taken a single high dose of disulfiram (130 tablets of ALCOHOL STOP TAB, Shin-Poong Pharm. Co., Ansan, Korea) in a suicide attempt. She was not an alcoholic. For the first few days after ingestion, she was in a confused state and had mild to moderate ataxia and giddiness. She noticed hoarseness and distally accentuated motor and sensory dysfunction after she had recovered from this state. A nerve conduction study was consistent with severe sensorimotor axonal polyneuropathy. Laryngeal electromyography (thyroarytenoid muscle) showed ample denervation potentials. Laryngoscopy revealed asymmetric vocal fold movements during phonation. Her vocal change and weakness began to improve spontaneously about 3 weeks after transfer. This was a case of acute palsy of the recurrent laryngeal nerve and superimposed severe acute sensorimotor axonal polyneuropathy caused by high-dose disulfiram intoxication.\",\n          \"Sulfasalazine-induced lupus erythematosus. Pneumonitis, bilateral pleural effusions, echocardiographic evidence of cardiac tamponade, and positive autoantibodies developed in a 43-year-old man, who was receiving long-term sulfasalazine therapy for chronic ulcerative colitis. After cessation of the sulfasalazine and completion of a six-week course of corticosteroids, these problems resolved over a period of four to six months. It is suggested that the patient had sulfasalazine-induced lupus, which manifested with serositis and pulmonary parenchymal involvement in the absence of joint symptoms. Physicians who use sulfasalazine to treat patients with inflammatory bowel disease should be aware of the signs of sulfasalazine-induced lupus syndrome.\"\n        ],\n        \"semantic_type\": \"\",\n        \"description\": \"\"\n      }\n    },\n    {\n      \"column\": \"labels\",\n      \"properties\": {\n        \"dtype\": \"object\",\n        \"semantic_type\": \"\",\n        \"description\": \"\"\n      }\n    }\n  ]\n}"
            }
          },
          "metadata": {},
          "execution_count": 17
        }
      ]
    },
    {
      "cell_type": "code",
      "source": [
        "test_df[\"labels\"] = test_labels\n",
        "test_df.head()"
      ],
      "metadata": {
        "colab": {
          "base_uri": "https://localhost:8080/",
          "height": 293
        },
        "id": "F4rLSg7_ljEO",
        "outputId": "36c32bd5-b293-4c43-ef6b-a1f89c321399"
      },
      "execution_count": null,
      "outputs": [
        {
          "output_type": "execute_result",
          "data": {
            "text/plain": [
              "                                             article  \\\n",
              "0  Famotidine-associated delirium. A series of si...   \n",
              "1  Indomethacin induced hypotension in sodium and...   \n",
              "2  Late-onset scleroderma renal crisis induced by...   \n",
              "3  The risk and associated factors of methampheta...   \n",
              "4  Cerebellar sensory processing alterations impa...   \n",
              "\n",
              "                                              labels  \n",
              "0  [(0, 10, Chemical), (22, 30, Disease), (55, 65...  \n",
              "1  [(0, 12, Chemical), (21, 32, Disease), (36, 42...  \n",
              "2  [(11, 35, Disease), (47, 57, Chemical), (62, 7...  \n",
              "3  [(35, 50, Chemical), (51, 60, Disease), (64, 7...  \n",
              "4  [(78, 97, Disease), (110, 120, Disease), (192,...  "
            ],
            "text/html": [
              "\n",
              "  <div id=\"df-d16c3a7d-59b3-4008-8852-205096b1c054\" class=\"colab-df-container\">\n",
              "    <div>\n",
              "<style scoped>\n",
              "    .dataframe tbody tr th:only-of-type {\n",
              "        vertical-align: middle;\n",
              "    }\n",
              "\n",
              "    .dataframe tbody tr th {\n",
              "        vertical-align: top;\n",
              "    }\n",
              "\n",
              "    .dataframe thead th {\n",
              "        text-align: right;\n",
              "    }\n",
              "</style>\n",
              "<table border=\"1\" class=\"dataframe\">\n",
              "  <thead>\n",
              "    <tr style=\"text-align: right;\">\n",
              "      <th></th>\n",
              "      <th>article</th>\n",
              "      <th>labels</th>\n",
              "    </tr>\n",
              "  </thead>\n",
              "  <tbody>\n",
              "    <tr>\n",
              "      <th>0</th>\n",
              "      <td>Famotidine-associated delirium. A series of si...</td>\n",
              "      <td>[(0, 10, Chemical), (22, 30, Disease), (55, 65...</td>\n",
              "    </tr>\n",
              "    <tr>\n",
              "      <th>1</th>\n",
              "      <td>Indomethacin induced hypotension in sodium and...</td>\n",
              "      <td>[(0, 12, Chemical), (21, 32, Disease), (36, 42...</td>\n",
              "    </tr>\n",
              "    <tr>\n",
              "      <th>2</th>\n",
              "      <td>Late-onset scleroderma renal crisis induced by...</td>\n",
              "      <td>[(11, 35, Disease), (47, 57, Chemical), (62, 7...</td>\n",
              "    </tr>\n",
              "    <tr>\n",
              "      <th>3</th>\n",
              "      <td>The risk and associated factors of methampheta...</td>\n",
              "      <td>[(35, 50, Chemical), (51, 60, Disease), (64, 7...</td>\n",
              "    </tr>\n",
              "    <tr>\n",
              "      <th>4</th>\n",
              "      <td>Cerebellar sensory processing alterations impa...</td>\n",
              "      <td>[(78, 97, Disease), (110, 120, Disease), (192,...</td>\n",
              "    </tr>\n",
              "  </tbody>\n",
              "</table>\n",
              "</div>\n",
              "    <div class=\"colab-df-buttons\">\n",
              "\n",
              "  <div class=\"colab-df-container\">\n",
              "    <button class=\"colab-df-convert\" onclick=\"convertToInteractive('df-d16c3a7d-59b3-4008-8852-205096b1c054')\"\n",
              "            title=\"Convert this dataframe to an interactive table.\"\n",
              "            style=\"display:none;\">\n",
              "\n",
              "  <svg xmlns=\"http://www.w3.org/2000/svg\" height=\"24px\" viewBox=\"0 -960 960 960\">\n",
              "    <path d=\"M120-120v-720h720v720H120Zm60-500h600v-160H180v160Zm220 220h160v-160H400v160Zm0 220h160v-160H400v160ZM180-400h160v-160H180v160Zm440 0h160v-160H620v160ZM180-180h160v-160H180v160Zm440 0h160v-160H620v160Z\"/>\n",
              "  </svg>\n",
              "    </button>\n",
              "\n",
              "  <style>\n",
              "    .colab-df-container {\n",
              "      display:flex;\n",
              "      gap: 12px;\n",
              "    }\n",
              "\n",
              "    .colab-df-convert {\n",
              "      background-color: #E8F0FE;\n",
              "      border: none;\n",
              "      border-radius: 50%;\n",
              "      cursor: pointer;\n",
              "      display: none;\n",
              "      fill: #1967D2;\n",
              "      height: 32px;\n",
              "      padding: 0 0 0 0;\n",
              "      width: 32px;\n",
              "    }\n",
              "\n",
              "    .colab-df-convert:hover {\n",
              "      background-color: #E2EBFA;\n",
              "      box-shadow: 0px 1px 2px rgba(60, 64, 67, 0.3), 0px 1px 3px 1px rgba(60, 64, 67, 0.15);\n",
              "      fill: #174EA6;\n",
              "    }\n",
              "\n",
              "    .colab-df-buttons div {\n",
              "      margin-bottom: 4px;\n",
              "    }\n",
              "\n",
              "    [theme=dark] .colab-df-convert {\n",
              "      background-color: #3B4455;\n",
              "      fill: #D2E3FC;\n",
              "    }\n",
              "\n",
              "    [theme=dark] .colab-df-convert:hover {\n",
              "      background-color: #434B5C;\n",
              "      box-shadow: 0px 1px 3px 1px rgba(0, 0, 0, 0.15);\n",
              "      filter: drop-shadow(0px 1px 2px rgba(0, 0, 0, 0.3));\n",
              "      fill: #FFFFFF;\n",
              "    }\n",
              "  </style>\n",
              "\n",
              "    <script>\n",
              "      const buttonEl =\n",
              "        document.querySelector('#df-d16c3a7d-59b3-4008-8852-205096b1c054 button.colab-df-convert');\n",
              "      buttonEl.style.display =\n",
              "        google.colab.kernel.accessAllowed ? 'block' : 'none';\n",
              "\n",
              "      async function convertToInteractive(key) {\n",
              "        const element = document.querySelector('#df-d16c3a7d-59b3-4008-8852-205096b1c054');\n",
              "        const dataTable =\n",
              "          await google.colab.kernel.invokeFunction('convertToInteractive',\n",
              "                                                    [key], {});\n",
              "        if (!dataTable) return;\n",
              "\n",
              "        const docLinkHtml = 'Like what you see? Visit the ' +\n",
              "          '<a target=\"_blank\" href=https://colab.research.google.com/notebooks/data_table.ipynb>data table notebook</a>'\n",
              "          + ' to learn more about interactive tables.';\n",
              "        element.innerHTML = '';\n",
              "        dataTable['output_type'] = 'display_data';\n",
              "        await google.colab.output.renderOutput(dataTable, element);\n",
              "        const docLink = document.createElement('div');\n",
              "        docLink.innerHTML = docLinkHtml;\n",
              "        element.appendChild(docLink);\n",
              "      }\n",
              "    </script>\n",
              "  </div>\n",
              "\n",
              "\n",
              "<div id=\"df-46a0aa8b-3b77-4648-b618-22e6c15572d5\">\n",
              "  <button class=\"colab-df-quickchart\" onclick=\"quickchart('df-46a0aa8b-3b77-4648-b618-22e6c15572d5')\"\n",
              "            title=\"Suggest charts\"\n",
              "            style=\"display:none;\">\n",
              "\n",
              "<svg xmlns=\"http://www.w3.org/2000/svg\" height=\"24px\"viewBox=\"0 0 24 24\"\n",
              "     width=\"24px\">\n",
              "    <g>\n",
              "        <path d=\"M19 3H5c-1.1 0-2 .9-2 2v14c0 1.1.9 2 2 2h14c1.1 0 2-.9 2-2V5c0-1.1-.9-2-2-2zM9 17H7v-7h2v7zm4 0h-2V7h2v10zm4 0h-2v-4h2v4z\"/>\n",
              "    </g>\n",
              "</svg>\n",
              "  </button>\n",
              "\n",
              "<style>\n",
              "  .colab-df-quickchart {\n",
              "      --bg-color: #E8F0FE;\n",
              "      --fill-color: #1967D2;\n",
              "      --hover-bg-color: #E2EBFA;\n",
              "      --hover-fill-color: #174EA6;\n",
              "      --disabled-fill-color: #AAA;\n",
              "      --disabled-bg-color: #DDD;\n",
              "  }\n",
              "\n",
              "  [theme=dark] .colab-df-quickchart {\n",
              "      --bg-color: #3B4455;\n",
              "      --fill-color: #D2E3FC;\n",
              "      --hover-bg-color: #434B5C;\n",
              "      --hover-fill-color: #FFFFFF;\n",
              "      --disabled-bg-color: #3B4455;\n",
              "      --disabled-fill-color: #666;\n",
              "  }\n",
              "\n",
              "  .colab-df-quickchart {\n",
              "    background-color: var(--bg-color);\n",
              "    border: none;\n",
              "    border-radius: 50%;\n",
              "    cursor: pointer;\n",
              "    display: none;\n",
              "    fill: var(--fill-color);\n",
              "    height: 32px;\n",
              "    padding: 0;\n",
              "    width: 32px;\n",
              "  }\n",
              "\n",
              "  .colab-df-quickchart:hover {\n",
              "    background-color: var(--hover-bg-color);\n",
              "    box-shadow: 0 1px 2px rgba(60, 64, 67, 0.3), 0 1px 3px 1px rgba(60, 64, 67, 0.15);\n",
              "    fill: var(--button-hover-fill-color);\n",
              "  }\n",
              "\n",
              "  .colab-df-quickchart-complete:disabled,\n",
              "  .colab-df-quickchart-complete:disabled:hover {\n",
              "    background-color: var(--disabled-bg-color);\n",
              "    fill: var(--disabled-fill-color);\n",
              "    box-shadow: none;\n",
              "  }\n",
              "\n",
              "  .colab-df-spinner {\n",
              "    border: 2px solid var(--fill-color);\n",
              "    border-color: transparent;\n",
              "    border-bottom-color: var(--fill-color);\n",
              "    animation:\n",
              "      spin 1s steps(1) infinite;\n",
              "  }\n",
              "\n",
              "  @keyframes spin {\n",
              "    0% {\n",
              "      border-color: transparent;\n",
              "      border-bottom-color: var(--fill-color);\n",
              "      border-left-color: var(--fill-color);\n",
              "    }\n",
              "    20% {\n",
              "      border-color: transparent;\n",
              "      border-left-color: var(--fill-color);\n",
              "      border-top-color: var(--fill-color);\n",
              "    }\n",
              "    30% {\n",
              "      border-color: transparent;\n",
              "      border-left-color: var(--fill-color);\n",
              "      border-top-color: var(--fill-color);\n",
              "      border-right-color: var(--fill-color);\n",
              "    }\n",
              "    40% {\n",
              "      border-color: transparent;\n",
              "      border-right-color: var(--fill-color);\n",
              "      border-top-color: var(--fill-color);\n",
              "    }\n",
              "    60% {\n",
              "      border-color: transparent;\n",
              "      border-right-color: var(--fill-color);\n",
              "    }\n",
              "    80% {\n",
              "      border-color: transparent;\n",
              "      border-right-color: var(--fill-color);\n",
              "      border-bottom-color: var(--fill-color);\n",
              "    }\n",
              "    90% {\n",
              "      border-color: transparent;\n",
              "      border-bottom-color: var(--fill-color);\n",
              "    }\n",
              "  }\n",
              "</style>\n",
              "\n",
              "  <script>\n",
              "    async function quickchart(key) {\n",
              "      const quickchartButtonEl =\n",
              "        document.querySelector('#' + key + ' button');\n",
              "      quickchartButtonEl.disabled = true;  // To prevent multiple clicks.\n",
              "      quickchartButtonEl.classList.add('colab-df-spinner');\n",
              "      try {\n",
              "        const charts = await google.colab.kernel.invokeFunction(\n",
              "            'suggestCharts', [key], {});\n",
              "      } catch (error) {\n",
              "        console.error('Error during call to suggestCharts:', error);\n",
              "      }\n",
              "      quickchartButtonEl.classList.remove('colab-df-spinner');\n",
              "      quickchartButtonEl.classList.add('colab-df-quickchart-complete');\n",
              "    }\n",
              "    (() => {\n",
              "      let quickchartButtonEl =\n",
              "        document.querySelector('#df-46a0aa8b-3b77-4648-b618-22e6c15572d5 button');\n",
              "      quickchartButtonEl.style.display =\n",
              "        google.colab.kernel.accessAllowed ? 'block' : 'none';\n",
              "    })();\n",
              "  </script>\n",
              "</div>\n",
              "\n",
              "    </div>\n",
              "  </div>\n"
            ],
            "application/vnd.google.colaboratory.intrinsic+json": {
              "type": "dataframe",
              "variable_name": "test_df",
              "summary": "{\n  \"name\": \"test_df\",\n  \"rows\": 501,\n  \"fields\": [\n    {\n      \"column\": \"article\",\n      \"properties\": {\n        \"dtype\": \"string\",\n        \"num_unique_values\": 501,\n        \"samples\": [\n          \"High-dose 5-fluorouracil / folinic acid in combination with three-weekly mitomycin C in the treatment of advanced gastric cancer. A phase II study. BACKGROUND: The 24-hour continuous infusion of 5-fluorouracil (5-FU) and folinic acid (FA) as part of several new multidrug chemotherapy regimens in advanced gastric cancer (AGC) has shown to be effective, with low toxicity. In a previous phase II study with 3-weekly bolus 5-FU, FA and mitomycin C (MMC) we found a low toxicity rate and response rates comparable to those of regimens such as ELF, FAM or FAMTX, and a promising median overall survival. In order to improve this MMC-dependent schedule we initiated a phase II study with high-dose 5-FU/FA and 3-weekly bolus MMC. PATIENTS AND METHODS: From February, 1998 to September, 2000 we recruited 33 patients with AGC to receive weekly 24-hour 5-FU 2,600 mg/m(2) preceded by 2-hour FA 500 mg/m(2) for 6 weeks, followed by a 2-week rest period. Bolus MMC 10 mg/m(2) was added in 3-weekly intervals. Treatment given on an outpatient basis, using portable pump systems, was repeated on day 57. Patients' characteristics were: male/female ratio 20/13; median age 57 (27-75) years; median WHO status 1 (0-2). 18 patients had a primary AGC, and 15 showed a relapsed AGC. Median follow-up was 11.8 months (range of those surviving: 2.7-11.8 months). RESULTS: 32 patients were evaluable for response - complete remission 9.1% (n = 3), partial remission 45.5% (n = 15), no change 27.3% (n = 9), progressive disease 15.1% (n = 5). Median overall survival time was 10.2 months [95% confidence interval (CI): 8.7-11.6], and median progression-free survival time was 7.6 months (95% CI: 4.4-10.9). The worst toxicities (%) observed were (CTC-NCI 1/2/3): leukopenia 45.5/18.2/6.1, thrombocytopenia 33.3/9.1/6.1, vomitus 24.2/9.1/0, diarrhea 36.4/6.1/3.0, stomatitis 18.2/9.1/0, hand-foot syndrome 12.1/0/0. Two patients developed hemolytic-uremic syndrome (HUS). CONCLUSIONS: High-dose 5-FU/FA/MMC is an effective and well-tolerated outpatient regimen for AGC (objective response rate 54.6%). It may serve as an alternative to cisplatin-containing regimens; however, it has to be considered that possibly HUS may occur.\",\n          \"Chronic treatment with metformin suppresses toll-like receptor 4 signaling and attenuates left ventricular dysfunction following myocardial infarction. Acute treatment with metformin has a protective effect in myocardial infarction by suppression of inflammatory responses due to activation of AMP-activated protein kinase (AMPK). In the present study, the effect of chronic pre-treatment with metformin on cardiac dysfunction and toll-like receptor 4 (TLR4) activities following myocardial infarction and their relation with AMPK were assessed. Male Wistar rats were randomly assigned to one of 5 groups (n=6): normal control and groups were injected isoproterenol after chronic pre-treatment with 0, 25, 50, or 100mg/kg of metformin twice daily for 14 days. Isoproterenol (100mg/kg) was injected subcutaneously on the 13th and 14th days to induce acute myocardial infarction. Isoproterenol alone decreased left ventricular systolic pressure and myocardial contractility indexed as LVdp/dtmax and LVdp/dtmin. The left ventricular dysfunction was significantly lower in the groups treated with 25 and 50mg/kg of metformin. Metfromin markedly lowered isoproterenol-induced elevation in the levels of TLR4 mRNA, myeloid differentiation protein 88 (MyD88), tumor necrosis factor-alpha (TNF-a), and interleukin 6 (IL-6) in the heart tissues. Similar changes were also seen in the serum levels of TNF-a and IL-6. However, the lower doses of 25 and 50mg/kg were more effective than 100mg/kg. Phosphorylated AMPKa (p-AMPK) in the myocardium was significantly elevated by 25mg/kg of metformin, slightly by 50mg/kg, but not by 100mg/kg. Chronic pre-treatment with metformin reduces post-myocardial infarction cardiac dysfunction and suppresses inflammatory responses, possibly through inhibition of TLR4 activities. This mechanism can be considered as a target to protect infarcted myocardium.\",\n          \"Respiratory pattern in a rat model of epilepsy. PURPOSE: Apnea is known to occur during seizures, but systematic studies of ictal respiratory changes in adults are few. Data regarding respiratory pattern defects during interictal periods also are scarce. Here we sought to generate information with regard to the interictal period in animals with pilocarpine-induced epilepsy. METHODS: Twelve rats (six chronically epileptic animals and six controls) were anesthetized, given tracheotomies, and subjected to hyperventilation or hypoventilation conditions. Breathing movements caused changes in thoracic volume and forced air to flow tidally through a pneumotachograph. This flow was measured by using a differential pressure transducer, passed through a polygraph, and from this to a computer with custom software that derived ventilation (VE), tidal volume (VT), inspiratory time (TI), expiratory time (TE), breathing frequency (f), and mean inspiratory flow (VT/TI) on a breath-by-breath basis. RESULTS: The hyperventilation maneuver caused a decrease in spontaneous ventilation in pilocarpine-treated and control rats. Although VE had a similar decrease in both groups, in the epileptic group, the decrease in VE was due to a significant (p < 0.05) increase in TE peak in relation to that of the control animals. The hypoventilation maneuver led to an increase in the arterial Paco2, followed by an increase in VE. In the epileptic group, the increase in VE was mediated by a significant (p < 0.05) decrease in TE peak compared with the control group. Systemic application of KCN, to evaluate the effects of peripheral chemoreception activation on ventilation, led to a similar increase in VE for both groups. CONCLUSIONS: The data indicate that pilocarpine-treated animals have an altered ability to react to (or compensate for) blood gas changes with changes in ventilation and suggest that it is centrally determined. We speculate on the possible relation of the current findings on treating different epilepsy-associated conditions.\"\n        ],\n        \"semantic_type\": \"\",\n        \"description\": \"\"\n      }\n    },\n    {\n      \"column\": \"labels\",\n      \"properties\": {\n        \"dtype\": \"object\",\n        \"semantic_type\": \"\",\n        \"description\": \"\"\n      }\n    }\n  ]\n}"
            }
          },
          "metadata": {},
          "execution_count": 19
        }
      ]
    },
    {
      "cell_type": "markdown",
      "source": [
        "custom NER\n",
        "\n",
        "prepare data"
      ],
      "metadata": {
        "id": "1njnLwFZluXW"
      }
    },
    {
      "cell_type": "code",
      "source": [
        " training_data = []\n",
        " for i, j in zip(train_article, train_labels):\n",
        "  training_data.append((i, j))"
      ],
      "metadata": {
        "id": "0WDXa7mtlmP8"
      },
      "execution_count": null,
      "outputs": []
    },
    {
      "cell_type": "code",
      "source": [
        "training_data[0]"
      ],
      "metadata": {
        "colab": {
          "base_uri": "https://localhost:8080/"
        },
        "id": "XryESLgqmd_O",
        "outputId": "5a31c143-f4d1-4a88-b896-14c156a82793"
      },
      "execution_count": null,
      "outputs": [
        {
          "output_type": "execute_result",
          "data": {
            "text/plain": [
              "('Naloxone reverses the antihypertensive effect of clonidine. In unanesthetized, spontaneously hypertensive rats the decrease in blood pressure and heart rate produced by intravenous clonidine, 5 to 20 micrograms/kg, was inhibited or reversed by nalozone, 0.2 to 2 mg/kg. The hypotensive effect of 100 mg/kg alpha-methyldopa was also partially reversed by naloxone. Naloxone alone did not affect either blood pressure or heart rate. In brain membranes from spontaneously hypertensive rats clonidine, 10(-8) to 10(-5) M, did not influence stereoselective binding of [3H]-naloxone (8 nM), and naloxone, 10(-8) to 10(-4) M, did not influence clonidine-suppressible binding of [3H]-dihydroergocryptine (1 nM). These findings indicate that in spontaneously hypertensive rats the effects of central alpha-adrenoceptor stimulation involve activation of opiate receptors. As naloxone and clonidine do not appear to interact with the same receptor site, the observed functional antagonism suggests the release of an endogenous opiate by clonidine or alpha-methyldopa and the possible role of the opiate in the central control of sympathetic tone.',\n",
              " [(0, 8, 'Chemical'),\n",
              "  (49, 58, 'Chemical'),\n",
              "  (93, 105, 'Disease'),\n",
              "  (181, 190, 'Chemical'),\n",
              "  (244, 252, 'Chemical'),\n",
              "  (274, 285, 'Disease'),\n",
              "  (306, 322, 'Chemical'),\n",
              "  (354, 362, 'Chemical'),\n",
              "  (364, 372, 'Chemical'),\n",
              "  (469, 481, 'Disease'),\n",
              "  (487, 496, 'Chemical'),\n",
              "  (563, 576, 'Chemical'),\n",
              "  (589, 597, 'Chemical'),\n",
              "  (637, 646, 'Chemical'),\n",
              "  (671, 695, 'Chemical'),\n",
              "  (750, 762, 'Disease'),\n",
              "  (865, 873, 'Chemical'),\n",
              "  (878, 887, 'Chemical'),\n",
              "  (1026, 1035, 'Chemical'),\n",
              "  (1039, 1055, 'Chemical')])"
            ]
          },
          "metadata": {},
          "execution_count": 21
        }
      ]
    },
    {
      "cell_type": "code",
      "source": [
        "testing_data = []\n",
        "for i, j in zip(test_article, test_labels):\n",
        "  testing_data.append((i, j))"
      ],
      "metadata": {
        "id": "geEsC0uqmfjA"
      },
      "execution_count": null,
      "outputs": []
    },
    {
      "cell_type": "code",
      "source": [
        "testing_data[0]"
      ],
      "metadata": {
        "colab": {
          "base_uri": "https://localhost:8080/"
        },
        "id": "gUQP5a7pmiXM",
        "outputId": "ffe5cb65-6a40-4855-920e-202169b6a911"
      },
      "execution_count": null,
      "outputs": [
        {
          "output_type": "execute_result",
          "data": {
            "text/plain": [
              "('Famotidine-associated delirium. A series of six cases. Famotidine is a histamine H2-receptor antagonist used in inpatient settings for prevention of stress ulcers and is showing increasing popularity because of its low cost. Although all of the currently available H2-receptor antagonists have shown the propensity to cause delirium, only two previously reported cases have been associated with famotidine. The authors report on six cases of famotidine-associated delirium in hospitalized patients who cleared completely upon removal of famotidine. The pharmacokinetics of famotidine are reviewed, with no change in its metabolism in the elderly population seen. The implications of using famotidine in elderly persons are discussed.',\n",
              " [(0, 10, 'Chemical'),\n",
              "  (22, 30, 'Disease'),\n",
              "  (55, 65, 'Chemical'),\n",
              "  (156, 162, 'Disease'),\n",
              "  (324, 332, 'Disease'),\n",
              "  (395, 405, 'Chemical'),\n",
              "  (442, 452, 'Chemical'),\n",
              "  (464, 472, 'Disease'),\n",
              "  (537, 547, 'Chemical'),\n",
              "  (573, 583, 'Chemical'),\n",
              "  (689, 699, 'Chemical')])"
            ]
          },
          "metadata": {},
          "execution_count": 23
        }
      ]
    },
    {
      "cell_type": "code",
      "source": [
        "!pip install spacy-transformers"
      ],
      "metadata": {
        "id": "4SA9AUs8smyu"
      },
      "execution_count": null,
      "outputs": []
    },
    {
      "cell_type": "code",
      "source": [
        "import spacy.training\n",
        "import spacy_transformers\n",
        "from spacy.tokens import DocBin\n",
        "\n",
        "nlp = spacy.load('en_core_web_trf')"
      ],
      "metadata": {
        "colab": {
          "base_uri": "https://localhost:8080/"
        },
        "id": "3et1zyI2qYo0",
        "outputId": "b0494127-ccd2-49f8-d085-375aa19cd3c6"
      },
      "execution_count": null,
      "outputs": [
        {
          "output_type": "stream",
          "name": "stderr",
          "text": [
            "/usr/local/lib/python3.11/dist-packages/thinc/shims/pytorch.py:261: FutureWarning: You are using `torch.load` with `weights_only=False` (the current default value), which uses the default pickle module implicitly. It is possible to construct malicious pickle data which will execute arbitrary code during unpickling (See https://github.com/pytorch/pytorch/blob/main/SECURITY.md#untrusted-models for more details). In a future release, the default value for `weights_only` will be flipped to `True`. This limits the functions that could be executed during unpickling. Arbitrary objects will no longer be allowed to be loaded via this mode unless they are explicitly allowlisted by the user via `torch.serialization.add_safe_globals`. We recommend you start setting `weights_only=True` for any use case where you don't have full control of the loaded file. Please open an issue on GitHub for any issues related to this experimental feature.\n",
            "  model.load_state_dict(torch.load(filelike, map_location=device))\n"
          ]
        }
      ]
    },
    {
      "cell_type": "code",
      "source": [
        "#for training data\n",
        "db = DocBin()\n",
        "for text, annotations in training_data:\n",
        "    doc = nlp.make_doc(text)  # Faster than nlp(text) because it skips NER\n",
        "    ents = []\n",
        "    for start, end, label in annotations:\n",
        "        span = doc.char_span(start, end, label=label)\n",
        "        if span is not None:\n",
        "            ents.append(span)\n",
        "    doc.ents = ents\n",
        "    db.add(doc)\n",
        "\n",
        "db.to_disk(\"train.spacy\")\n"
      ],
      "metadata": {
        "id": "6F8XdVz0qeQx"
      },
      "execution_count": null,
      "outputs": []
    },
    {
      "cell_type": "code",
      "source": [
        "#testing data\n",
        "db = DocBin()\n",
        "for text, annotations in testing_data:\n",
        "    doc = nlp.make_doc(text)  # Faster than nlp(text) because it skips NER\n",
        "    ents = []\n",
        "    for start, end, label in annotations:\n",
        "        span = doc.char_span(start, end, label=label)\n",
        "        if span is not None:\n",
        "            ents.append(span)\n",
        "    doc.ents = ents\n",
        "    db.add(doc)\n",
        "\n",
        "db.to_disk(\"dev.spacy\")"
      ],
      "metadata": {
        "id": "LMJFbbLjtfX5"
      },
      "execution_count": null,
      "outputs": []
    },
    {
      "cell_type": "markdown",
      "source": [
        "train model"
      ],
      "metadata": {
        "id": "SLvgf6hvyuaM"
      }
    },
    {
      "cell_type": "code",
      "source": [
        "!python -m spacy init fill-config --help"
      ],
      "metadata": {
        "colab": {
          "base_uri": "https://localhost:8080/"
        },
        "id": "kjoGaRg4ySPD",
        "outputId": "f1728b9a-6663-4c07-851a-044f31705624"
      },
      "execution_count": null,
      "outputs": [
        {
          "output_type": "stream",
          "name": "stdout",
          "text": [
            "\u001b[1m                                                                                                    \u001b[0m\n",
            "\u001b[1m \u001b[0m\u001b[1;33mUsage: \u001b[0m\u001b[1mpython \u001b[0m\u001b[1;32m-m\u001b[0m\u001b[1m spacy init fill-config [OPTIONS] BASE_PATH [OUTPUT_FILE]\u001b[0m\u001b[1m                         \u001b[0m\u001b[1m \u001b[0m\n",
            "\u001b[1m                                                                                                    \u001b[0m\n",
            " Fill partial config file with default values. Will add all missing settings from the default       \n",
            " config and will create all objects, check the registered functions for their default values and    \n",
            " update the base config. This command can be used with a config generated via the training          \n",
            " quickstart widget: https://spacy.io/usage/training#quickstart                                      \n",
            " \u001b[2mDOCS: https://spacy.io/api/cli#init-fill-config\u001b[0m                                                    \n",
            "                                                                                                    \n",
            "\u001b[2m╭─\u001b[0m\u001b[2m Arguments \u001b[0m\u001b[2m─────────────────────────────────────────────────────────────────────────────────────\u001b[0m\u001b[2m─╮\u001b[0m\n",
            "\u001b[2m│\u001b[0m \u001b[31m*\u001b[0m    base_path        \u001b[1;33mFILE         \u001b[0m  Path to base config to fill \u001b[2m[default: None]\u001b[0m \u001b[2;31m[required]\u001b[0m      \u001b[2m│\u001b[0m\n",
            "\u001b[2m│\u001b[0m      output_file      \u001b[1;2;33m[\u001b[0m\u001b[1;33mOUTPUT_FILE\u001b[0m\u001b[1;2;33m]\u001b[0m  Path to output .cfg file (or - for stdout) \u001b[2m[default: -]\u001b[0m     \u001b[2m│\u001b[0m\n",
            "\u001b[2m╰──────────────────────────────────────────────────────────────────────────────────────────────────╯\u001b[0m\n",
            "\u001b[2m╭─\u001b[0m\u001b[2m Options \u001b[0m\u001b[2m───────────────────────────────────────────────────────────────────────────────────────\u001b[0m\u001b[2m─╮\u001b[0m\n",
            "\u001b[2m│\u001b[0m \u001b[1;36m-\u001b[0m\u001b[1;36m-pretraining\u001b[0m       \u001b[1;32m-pt\u001b[0m      \u001b[1;33m    \u001b[0m  Include config for pretraining (with 'spacy pretrain')        \u001b[2m│\u001b[0m\n",
            "\u001b[2m│\u001b[0m \u001b[1;36m-\u001b[0m\u001b[1;36m-diff\u001b[0m              \u001b[1;32m-D\u001b[0m       \u001b[1;33m    \u001b[0m  Print a visual diff highlighting the changes                  \u001b[2m│\u001b[0m\n",
            "\u001b[2m│\u001b[0m \u001b[1;36m-\u001b[0m\u001b[1;36m-code\u001b[0m\u001b[1;36m-path\u001b[0m,\u001b[1;36m-\u001b[0m\u001b[1;36m-code\u001b[0m  \u001b[1;32m-c\u001b[0m       \u001b[1;33mPATH\u001b[0m  Path to Python file with additional code (registered          \u001b[2m│\u001b[0m\n",
            "\u001b[2m│\u001b[0m                                    functions) to be imported                                     \u001b[2m│\u001b[0m\n",
            "\u001b[2m│\u001b[0m                                    \u001b[2m[default: None]                                              \u001b[0m \u001b[2m│\u001b[0m\n",
            "\u001b[2m│\u001b[0m \u001b[1;36m-\u001b[0m\u001b[1;36m-help\u001b[0m                       \u001b[1;33m    \u001b[0m  Show this message and exit.                                   \u001b[2m│\u001b[0m\n",
            "\u001b[2m╰──────────────────────────────────────────────────────────────────────────────────────────────────╯\u001b[0m\n",
            "\n"
          ]
        }
      ]
    },
    {
      "cell_type": "code",
      "source": [
        "nlp = spacy.blank(\"en\")  # Create an empty pipeline\n",
        "doc_bin = DocBin().from_disk(\"train.spacy\")\n",
        "docs = list(doc_bin.get_docs(nlp.vocab))\n",
        "\n",
        "# Print first doc to check\n",
        "print(docs[0].text)           # Original text\n",
        "print([(ent.text, ent.label_) for ent in docs[0].ents])  # Entities"
      ],
      "metadata": {
        "colab": {
          "base_uri": "https://localhost:8080/"
        },
        "id": "OlL7GTPby3Zo",
        "outputId": "85b8c4a4-90ca-43b6-ebd3-f37875e11842"
      },
      "execution_count": null,
      "outputs": [
        {
          "output_type": "stream",
          "name": "stdout",
          "text": [
            "Naloxone reverses the antihypertensive effect of clonidine. In unanesthetized, spontaneously hypertensive rats the decrease in blood pressure and heart rate produced by intravenous clonidine, 5 to 20 micrograms/kg, was inhibited or reversed by nalozone, 0.2 to 2 mg/kg. The hypotensive effect of 100 mg/kg alpha-methyldopa was also partially reversed by naloxone. Naloxone alone did not affect either blood pressure or heart rate. In brain membranes from spontaneously hypertensive rats clonidine, 10(-8) to 10(-5) M, did not influence stereoselective binding of [3H]-naloxone (8 nM), and naloxone, 10(-8) to 10(-4) M, did not influence clonidine-suppressible binding of [3H]-dihydroergocryptine (1 nM). These findings indicate that in spontaneously hypertensive rats the effects of central alpha-adrenoceptor stimulation involve activation of opiate receptors. As naloxone and clonidine do not appear to interact with the same receptor site, the observed functional antagonism suggests the release of an endogenous opiate by clonidine or alpha-methyldopa and the possible role of the opiate in the central control of sympathetic tone.\n",
            "[('Naloxone', 'Chemical'), ('clonidine', 'Chemical'), ('hypertensive', 'Disease'), ('clonidine', 'Chemical'), ('nalozone', 'Chemical'), ('hypotensive', 'Disease'), ('alpha-methyldopa', 'Chemical'), ('naloxone', 'Chemical'), ('Naloxone', 'Chemical'), ('hypertensive', 'Disease'), ('clonidine', 'Chemical'), ('[3H]-naloxone', 'Chemical'), ('naloxone', 'Chemical'), ('clonidine', 'Chemical'), ('[3H]-dihydroergocryptine', 'Chemical'), ('hypertensive', 'Disease'), ('naloxone', 'Chemical'), ('clonidine', 'Chemical'), ('clonidine', 'Chemical'), ('alpha-methyldopa', 'Chemical')]\n"
          ]
        }
      ]
    },
    {
      "cell_type": "code",
      "source": [
        "!python -m spacy init config base_config.cfg --lang en --pipeline ner --optimize efficiency\n",
        "\n"
      ],
      "metadata": {
        "colab": {
          "base_uri": "https://localhost:8080/"
        },
        "id": "AfeR2s3ZzrmL",
        "outputId": "177edcaa-2e1b-4573-afe7-88e7abf16ca9"
      },
      "execution_count": null,
      "outputs": [
        {
          "output_type": "stream",
          "name": "stdout",
          "text": [
            "\u001b[38;5;4mℹ Generated config template specific for your use case\u001b[0m\n",
            "- Language: en\n",
            "- Pipeline: ner\n",
            "- Optimize for: efficiency\n",
            "- Hardware: CPU\n",
            "- Transformer: None\n",
            "\u001b[38;5;2m✔ Auto-filled config with all values\u001b[0m\n",
            "\u001b[38;5;2m✔ Saved config\u001b[0m\n",
            "base_config.cfg\n",
            "You can now add your data and train your pipeline:\n",
            "python -m spacy train base_config.cfg --paths.train ./train.spacy --paths.dev ./dev.spacy\n"
          ]
        }
      ]
    },
    {
      "cell_type": "code",
      "source": [
        "!python -m spacy init fill-config base_config.cfg config.cfg\n"
      ],
      "metadata": {
        "colab": {
          "base_uri": "https://localhost:8080/"
        },
        "id": "CKYSi7oA0KQt",
        "outputId": "f655c9a6-22f5-4803-e230-d2b4ed1f3698"
      },
      "execution_count": null,
      "outputs": [
        {
          "output_type": "stream",
          "name": "stdout",
          "text": [
            "\u001b[38;5;3m⚠ Nothing to auto-fill: base config is already complete\u001b[0m\n",
            "\u001b[38;5;2m✔ Saved config\u001b[0m\n",
            "config.cfg\n",
            "You can now add your data and train your pipeline:\n",
            "python -m spacy train config.cfg --paths.train ./train.spacy --paths.dev ./dev.spacy\n"
          ]
        }
      ]
    },
    {
      "cell_type": "markdown",
      "source": [
        "model training"
      ],
      "metadata": {
        "id": "mS_roRfQ0otm"
      }
    },
    {
      "cell_type": "code",
      "source": [
        "!python -m spacy train config.cfg --output ./output --paths.train ./train.spacy --paths.dev ./dev.spacy --gpu-id -1\n"
      ],
      "metadata": {
        "colab": {
          "base_uri": "https://localhost:8080/"
        },
        "id": "nD6HqiKe0fYK",
        "outputId": "4aaa41e4-f452-4bb5-e723-ea4772d84bc3"
      },
      "execution_count": null,
      "outputs": [
        {
          "output_type": "stream",
          "name": "stdout",
          "text": [
            "\u001b[38;5;4mℹ Saving to output directory: output\u001b[0m\n",
            "\u001b[38;5;4mℹ Using CPU\u001b[0m\n",
            "\u001b[1m\n",
            "=========================== Initializing pipeline ===========================\u001b[0m\n",
            "\u001b[38;5;2m✔ Initialized pipeline\u001b[0m\n",
            "\u001b[1m\n",
            "============================= Training pipeline =============================\u001b[0m\n",
            "\u001b[38;5;4mℹ Pipeline: ['tok2vec', 'ner']\u001b[0m\n",
            "\u001b[38;5;4mℹ Initial learn rate: 0.001\u001b[0m\n",
            "E    #       LOSS TOK2VEC  LOSS NER  ENTS_F  ENTS_P  ENTS_R  SCORE \n",
            "---  ------  ------------  --------  ------  ------  ------  ------\n",
            "  0       0          0.00     63.90    1.16    0.75    2.56    0.01\n",
            "  0     200       1056.62   6765.74   50.85   66.12   41.31    0.51\n",
            "  0     400        218.46   3486.94   67.18   74.89   60.91    0.67\n",
            "  1     600        197.61   2480.25   71.02   75.45   67.08    0.71\n",
            "  1     800        220.91   1779.79   74.53   79.76   69.94    0.75\n",
            "  2    1000        227.15   1889.29   73.77   75.31   72.29    0.74\n",
            "  2    1200        221.28   1286.13   75.07   80.34   70.44    0.75\n",
            "  2    1400        208.97   1053.81   76.07   82.88   70.29    0.76\n",
            "  3    1600        252.34   1053.90   77.47   80.81   74.41    0.77\n",
            "  3    1800        244.69    849.50   77.70   83.55   72.61    0.78\n",
            "  4    2000        259.00    847.92   77.83   80.61   75.23    0.78\n",
            "  4    2200       2548.28    704.18   76.98   82.48   72.16    0.77\n",
            "  4    2400        389.56    904.78   77.21   85.39   70.47    0.77\n",
            "  5    2600        352.10    668.58   77.89   85.60   71.45    0.78\n",
            "  6    2800        627.22    831.36   77.76   84.45   72.05    0.78\n",
            "  6    3000        812.52    774.59   77.34   80.45   74.47    0.77\n",
            "  7    3200        676.28    815.31   77.95   85.14   71.88    0.78\n",
            "  8    3400        627.55    777.77   77.89   80.75   75.22    0.78\n",
            " 10    3600        725.28    760.90   77.89   82.47   73.80    0.78\n",
            " 11    3800        780.80    643.44   78.66   84.12   73.86    0.79\n",
            " 13    4000       1014.16    519.96   78.73   83.30   74.64    0.79\n",
            " 14    4200       6292.67    508.51   78.33   85.98   71.93    0.78\n",
            " 16    4400       1104.59    471.35   78.64   82.89   74.81    0.79\n",
            " 17    4600        888.88    367.45   78.46   81.77   75.41    0.78\n",
            " 19    4800       1505.05    356.69   78.57   83.89   73.89    0.79\n",
            " 20    5000        924.02    355.86   78.52   82.59   74.83    0.79\n",
            " 22    5200        950.46    325.50   78.43   83.47   73.97    0.78\n",
            " 23    5400        879.43    275.63   78.46   82.96   74.43    0.78\n",
            " 25    5600       1117.25    291.78   78.46   82.82   74.54    0.78\n",
            "\u001b[38;5;2m✔ Saved pipeline to output directory\u001b[0m\n",
            "output/model-last\n"
          ]
        }
      ]
    },
    {
      "cell_type": "markdown",
      "source": [
        "model testing"
      ],
      "metadata": {
        "id": "ZWuBCnJeUblI"
      }
    },
    {
      "cell_type": "code",
      "source": [
        "unique_labels = set()\n",
        "\n",
        "for example in testing_data:\n",
        "  entities = example[1]\n",
        "  for entity in entities:\n",
        "    entity_label = entity[2]\n",
        "    unique_labels.add(entity_label)\n",
        "\n",
        "unique_labels_list = list(unique_labels)\n",
        "\n",
        "colors = {\n",
        "    \"Chemical\": \"#85C1E9\",\n",
        "    \"Disease\": \"#FF6347\",\n",
        "}\n",
        "\n",
        "options = {\"ents\": [\"Chemical\", \"Disease\"], \"colors\": colors}\n",
        "\n",
        "print(\"Entities to be recognised in the provided medical text : \")\n",
        "print(unique_labels_list)"
      ],
      "metadata": {
        "colab": {
          "base_uri": "https://localhost:8080/"
        },
        "id": "HtKvPaQt1EKZ",
        "outputId": "81fc032e-a660-41a9-a888-42fa8089aa57"
      },
      "execution_count": null,
      "outputs": [
        {
          "output_type": "stream",
          "name": "stdout",
          "text": [
            "Entities to be recognised in the provided medical text : \n",
            "['Disease', 'Chemical']\n"
          ]
        }
      ]
    },
    {
      "cell_type": "code",
      "source": [
        "nlp = spacy.load(\"/content/output/model-best\")"
      ],
      "metadata": {
        "id": "MlexXra2UVmz"
      },
      "execution_count": null,
      "outputs": []
    },
    {
      "cell_type": "code",
      "source": [
        "doc = nlp(testing_data[5][0])\n",
        "spacy.displacy.render(doc, style=\"ent\", options=options, jupyter=True)"
      ],
      "metadata": {
        "colab": {
          "base_uri": "https://localhost:8080/",
          "height": 892
        },
        "id": "PGbeep5BUUkW",
        "outputId": "6f7e5a54-c2d9-45fe-e7c5-e01c93651176"
      },
      "execution_count": null,
      "outputs": [
        {
          "output_type": "display_data",
          "data": {
            "text/plain": [
              "<IPython.core.display.HTML object>"
            ],
            "text/html": [
              "<span class=\"tex2jax_ignore\"><div class=\"entities\" style=\"line-height: 2.5; direction: ltr\">The function of P2X3 receptor and \n",
              "<mark class=\"entity\" style=\"background: #85C1E9; padding: 0.45em 0.6em; margin: 0 0.25em; line-height: 1; border-radius: 0.35em;\">\n",
              "    NK1\n",
              "    <span style=\"font-size: 0.8em; font-weight: bold; line-height: 1; border-radius: 0.35em; vertical-align: middle; margin-left: 0.5rem\">Chemical</span>\n",
              "</mark>\n",
              " receptor antagonists on \n",
              "<mark class=\"entity\" style=\"background: #85C1E9; padding: 0.45em 0.6em; margin: 0 0.25em; line-height: 1; border-radius: 0.35em;\">\n",
              "    cyclophosphamide\n",
              "    <span style=\"font-size: 0.8em; font-weight: bold; line-height: 1; border-radius: 0.35em; vertical-align: middle; margin-left: 0.5rem\">Chemical</span>\n",
              "</mark>\n",
              "-induced \n",
              "<mark class=\"entity\" style=\"background: #FF6347; padding: 0.45em 0.6em; margin: 0 0.25em; line-height: 1; border-radius: 0.35em;\">\n",
              "    cystitis\n",
              "    <span style=\"font-size: 0.8em; font-weight: bold; line-height: 1; border-radius: 0.35em; vertical-align: middle; margin-left: 0.5rem\">Disease</span>\n",
              "</mark>\n",
              " in rats. PURPOSE: The purpose of the study is to explore the function of \n",
              "<mark class=\"entity\" style=\"background: #85C1E9; padding: 0.45em 0.6em; margin: 0 0.25em; line-height: 1; border-radius: 0.35em;\">\n",
              "    P2X3\n",
              "    <span style=\"font-size: 0.8em; font-weight: bold; line-height: 1; border-radius: 0.35em; vertical-align: middle; margin-left: 0.5rem\">Chemical</span>\n",
              "</mark>\n",
              " and \n",
              "<mark class=\"entity\" style=\"background: #85C1E9; padding: 0.45em 0.6em; margin: 0 0.25em; line-height: 1; border-radius: 0.35em;\">\n",
              "    NK1\n",
              "    <span style=\"font-size: 0.8em; font-weight: bold; line-height: 1; border-radius: 0.35em; vertical-align: middle; margin-left: 0.5rem\">Chemical</span>\n",
              "</mark>\n",
              " receptors antagonists on \n",
              "<mark class=\"entity\" style=\"background: #85C1E9; padding: 0.45em 0.6em; margin: 0 0.25em; line-height: 1; border-radius: 0.35em;\">\n",
              "    cyclophosphamide\n",
              "    <span style=\"font-size: 0.8em; font-weight: bold; line-height: 1; border-radius: 0.35em; vertical-align: middle; margin-left: 0.5rem\">Chemical</span>\n",
              "</mark>\n",
              " (CYP)-induced \n",
              "<mark class=\"entity\" style=\"background: #FF6347; padding: 0.45em 0.6em; margin: 0 0.25em; line-height: 1; border-radius: 0.35em;\">\n",
              "    cystitis\n",
              "    <span style=\"font-size: 0.8em; font-weight: bold; line-height: 1; border-radius: 0.35em; vertical-align: middle; margin-left: 0.5rem\">Disease</span>\n",
              "</mark>\n",
              " in rats. METHODS: Sixty female Sprague-Dawley (SD) rats were randomly divided into three groups. The rats in the control group were intraperitoneally (i.p.) injected with 0.9% saline (4 ml/kg); the rats in the model group were i.p. injected with CYP (150 mg/kg); and the rats in the intervention group were i.p. injected with CYP with subsequently perfusion of bladder with \n",
              "<mark class=\"entity\" style=\"background: #85C1E9; padding: 0.45em 0.6em; margin: 0 0.25em; line-height: 1; border-radius: 0.35em;\">\n",
              "    P2X3\n",
              "    <span style=\"font-size: 0.8em; font-weight: bold; line-height: 1; border-radius: 0.35em; vertical-align: middle; margin-left: 0.5rem\">Chemical</span>\n",
              "</mark>\n",
              " and \n",
              "<mark class=\"entity\" style=\"background: #85C1E9; padding: 0.45em 0.6em; margin: 0 0.25em; line-height: 1; border-radius: 0.35em;\">\n",
              "    NK1\n",
              "    <span style=\"font-size: 0.8em; font-weight: bold; line-height: 1; border-radius: 0.35em; vertical-align: middle; margin-left: 0.5rem\">Chemical</span>\n",
              "</mark>\n",
              " receptors' antagonists, \n",
              "<mark class=\"entity\" style=\"background: #85C1E9; padding: 0.45em 0.6em; margin: 0 0.25em; line-height: 1; border-radius: 0.35em;\">\n",
              "    Suramin\n",
              "    <span style=\"font-size: 0.8em; font-weight: bold; line-height: 1; border-radius: 0.35em; vertical-align: middle; margin-left: 0.5rem\">Chemical</span>\n",
              "</mark>\n",
              " and \n",
              "<mark class=\"entity\" style=\"background: #85C1E9; padding: 0.45em 0.6em; margin: 0 0.25em; line-height: 1; border-radius: 0.35em;\">\n",
              "    GR\n",
              "    <span style=\"font-size: 0.8em; font-weight: bold; line-height: 1; border-radius: 0.35em; vertical-align: middle; margin-left: 0.5rem\">Chemical</span>\n",
              "</mark>\n",
              " 82334. Spontaneous \n",
              "<mark class=\"entity\" style=\"background: #FF6347; padding: 0.45em 0.6em; margin: 0 0.25em; line-height: 1; border-radius: 0.35em;\">\n",
              "    pain\n",
              "    <span style=\"font-size: 0.8em; font-weight: bold; line-height: 1; border-radius: 0.35em; vertical-align: middle; margin-left: 0.5rem\">Disease</span>\n",
              "</mark>\n",
              " behaviors following the administration of CYP were observed. Urodynamic parameters, bladder pressure-volume curve, maximum voiding pressure (MVP), and maximum cystometric capacity (MCC), were recorded. Pathological changes in bladder tissue were observed. Immunofluorescence was used to detect the expression of \n",
              "<mark class=\"entity\" style=\"background: #85C1E9; padding: 0.45em 0.6em; margin: 0 0.25em; line-height: 1; border-radius: 0.35em;\">\n",
              "    P2X3\n",
              "    <span style=\"font-size: 0.8em; font-weight: bold; line-height: 1; border-radius: 0.35em; vertical-align: middle; margin-left: 0.5rem\">Chemical</span>\n",
              "</mark>\n",
              " and \n",
              "<mark class=\"entity\" style=\"background: #85C1E9; padding: 0.45em 0.6em; margin: 0 0.25em; line-height: 1; border-radius: 0.35em;\">\n",
              "    NK1\n",
              "    <span style=\"font-size: 0.8em; font-weight: bold; line-height: 1; border-radius: 0.35em; vertical-align: middle; margin-left: 0.5rem\">Chemical</span>\n",
              "</mark>\n",
              " receptors in bladder. RESULTS: \n",
              "<mark class=\"entity\" style=\"background: #85C1E9; padding: 0.45em 0.6em; margin: 0 0.25em; line-height: 1; border-radius: 0.35em;\">\n",
              "    Cyclophosphamide\n",
              "    <span style=\"font-size: 0.8em; font-weight: bold; line-height: 1; border-radius: 0.35em; vertical-align: middle; margin-left: 0.5rem\">Chemical</span>\n",
              "</mark>\n",
              " treatment increased the spontaneous \n",
              "<mark class=\"entity\" style=\"background: #FF6347; padding: 0.45em 0.6em; margin: 0 0.25em; line-height: 1; border-radius: 0.35em;\">\n",
              "    pain\n",
              "    <span style=\"font-size: 0.8em; font-weight: bold; line-height: 1; border-radius: 0.35em; vertical-align: middle; margin-left: 0.5rem\">Disease</span>\n",
              "</mark>\n",
              " behaviors scores. The incidence of \n",
              "<mark class=\"entity\" style=\"background: #FF6347; padding: 0.45em 0.6em; margin: 0 0.25em; line-height: 1; border-radius: 0.35em;\">\n",
              "    bladder instability\n",
              "    <span style=\"font-size: 0.8em; font-weight: bold; line-height: 1; border-radius: 0.35em; vertical-align: middle; margin-left: 0.5rem\">Disease</span>\n",
              "</mark>\n",
              " during urine storage period of model group was significantly higher than intervention group (X(2) = 7.619, P = 0.007) and control group (X(2) = 13.755, P = 0.000). MCC in the model group was lower than the control and intervention groups (P &lt; 0.01). Histological changes evident in model and intervention groups rats' bladder included \n",
              "<mark class=\"entity\" style=\"background: #FF6347; padding: 0.45em 0.6em; margin: 0 0.25em; line-height: 1; border-radius: 0.35em;\">\n",
              "    edema\n",
              "    <span style=\"font-size: 0.8em; font-weight: bold; line-height: 1; border-radius: 0.35em; vertical-align: middle; margin-left: 0.5rem\">Disease</span>\n",
              "</mark>\n",
              ", vasodilation, and infiltration of inflammatory cells. In model group, the expression of P2X3 receptor increased in \n",
              "<mark class=\"entity\" style=\"background: #85C1E9; padding: 0.45em 0.6em; margin: 0 0.25em; line-height: 1; border-radius: 0.35em;\">\n",
              "    urothelium\n",
              "    <span style=\"font-size: 0.8em; font-weight: bold; line-height: 1; border-radius: 0.35em; vertical-align: middle; margin-left: 0.5rem\">Chemical</span>\n",
              "</mark>\n",
              " and \n",
              "<mark class=\"entity\" style=\"background: #85C1E9; padding: 0.45em 0.6em; margin: 0 0.25em; line-height: 1; border-radius: 0.35em;\">\n",
              "    suburothelium\n",
              "    <span style=\"font-size: 0.8em; font-weight: bold; line-height: 1; border-radius: 0.35em; vertical-align: middle; margin-left: 0.5rem\">Chemical</span>\n",
              "</mark>\n",
              ", and \n",
              "<mark class=\"entity\" style=\"background: #85C1E9; padding: 0.45em 0.6em; margin: 0 0.25em; line-height: 1; border-radius: 0.35em;\">\n",
              "    NK1\n",
              "    <span style=\"font-size: 0.8em; font-weight: bold; line-height: 1; border-radius: 0.35em; vertical-align: middle; margin-left: 0.5rem\">Chemical</span>\n",
              "</mark>\n",
              " receptor increased in \n",
              "<mark class=\"entity\" style=\"background: #85C1E9; padding: 0.45em 0.6em; margin: 0 0.25em; line-height: 1; border-radius: 0.35em;\">\n",
              "    suburothelium\n",
              "    <span style=\"font-size: 0.8em; font-weight: bold; line-height: 1; border-radius: 0.35em; vertical-align: middle; margin-left: 0.5rem\">Chemical</span>\n",
              "</mark>\n",
              ", while the expression of them in intervention group was lower. CONCLUSIONS: In CYP-induced \n",
              "<mark class=\"entity\" style=\"background: #FF6347; padding: 0.45em 0.6em; margin: 0 0.25em; line-height: 1; border-radius: 0.35em;\">\n",
              "    cystitis\n",
              "    <span style=\"font-size: 0.8em; font-weight: bold; line-height: 1; border-radius: 0.35em; vertical-align: middle; margin-left: 0.5rem\">Disease</span>\n",
              "</mark>\n",
              ", the expression of \n",
              "<mark class=\"entity\" style=\"background: #85C1E9; padding: 0.45em 0.6em; margin: 0 0.25em; line-height: 1; border-radius: 0.35em;\">\n",
              "    P2X3\n",
              "    <span style=\"font-size: 0.8em; font-weight: bold; line-height: 1; border-radius: 0.35em; vertical-align: middle; margin-left: 0.5rem\">Chemical</span>\n",
              "</mark>\n",
              " and \n",
              "<mark class=\"entity\" style=\"background: #85C1E9; padding: 0.45em 0.6em; margin: 0 0.25em; line-height: 1; border-radius: 0.35em;\">\n",
              "    NK1\n",
              "    <span style=\"font-size: 0.8em; font-weight: bold; line-height: 1; border-radius: 0.35em; vertical-align: middle; margin-left: 0.5rem\">Chemical</span>\n",
              "</mark>\n",
              " receptors increased in \n",
              "<mark class=\"entity\" style=\"background: #85C1E9; padding: 0.45em 0.6em; margin: 0 0.25em; line-height: 1; border-radius: 0.35em;\">\n",
              "    urothelium\n",
              "    <span style=\"font-size: 0.8em; font-weight: bold; line-height: 1; border-radius: 0.35em; vertical-align: middle; margin-left: 0.5rem\">Chemical</span>\n",
              "</mark>\n",
              " and/or \n",
              "<mark class=\"entity\" style=\"background: #85C1E9; padding: 0.45em 0.6em; margin: 0 0.25em; line-height: 1; border-radius: 0.35em;\">\n",
              "    suburothelium\n",
              "    <span style=\"font-size: 0.8em; font-weight: bold; line-height: 1; border-radius: 0.35em; vertical-align: middle; margin-left: 0.5rem\">Chemical</span>\n",
              "</mark>\n",
              ". Perfusion of bladder with \n",
              "<mark class=\"entity\" style=\"background: #85C1E9; padding: 0.45em 0.6em; margin: 0 0.25em; line-height: 1; border-radius: 0.35em;\">\n",
              "    P2X3\n",
              "    <span style=\"font-size: 0.8em; font-weight: bold; line-height: 1; border-radius: 0.35em; vertical-align: middle; margin-left: 0.5rem\">Chemical</span>\n",
              "</mark>\n",
              " and \n",
              "<mark class=\"entity\" style=\"background: #85C1E9; padding: 0.45em 0.6em; margin: 0 0.25em; line-height: 1; border-radius: 0.35em;\">\n",
              "    NK1\n",
              "    <span style=\"font-size: 0.8em; font-weight: bold; line-height: 1; border-radius: 0.35em; vertical-align: middle; margin-left: 0.5rem\">Chemical</span>\n",
              "</mark>\n",
              " receptors antagonists ameliorated the bladder function.</div></span>"
            ]
          },
          "metadata": {}
        }
      ]
    },
    {
      "cell_type": "code",
      "source": [],
      "metadata": {
        "id": "h6CoW-K4ddtJ"
      },
      "execution_count": null,
      "outputs": []
    }
  ]
}